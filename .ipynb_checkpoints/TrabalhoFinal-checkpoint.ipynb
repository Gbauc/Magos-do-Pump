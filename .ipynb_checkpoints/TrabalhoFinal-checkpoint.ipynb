{
 "cells": [
  {
   "cell_type": "markdown",
   "id": "009a2cfa-bf79-46df-965f-7a6b3641a21d",
   "metadata": {},
   "source": [
    "# Bafômetro.py"
   ]
  },
  {
   "cell_type": "markdown",
   "id": "2c7acc64",
   "metadata": {},
   "source": [
    "Junção Grahcyanne's + Phosphorus do python = <b>Magos do Pump</b>\n",
    "\n",
    "---\n",
    "Neste notebook, tentamos sintetizar todo o conhecimento adquido ao longo do semestre, com a implementação de estratégias de aprendizado de máquina em um dataset não didático."
   ]
  },
  {
   "cell_type": "markdown",
   "id": "3f964cfb",
   "metadata": {},
   "source": [
    "Importando todas as bibliotecas que serão usadas ao longo do notebook:"
   ]
  },
  {
   "cell_type": "code",
   "execution_count": 1,
   "id": "5a29b33b-57bb-4c45-849e-8cd3e413748f",
   "metadata": {},
   "outputs": [],
   "source": [
    "import numpy as np\n",
    "import pandas as pd\n",
    "import seaborn as sns\n",
    "import imblearn\n",
    "import pickle\n",
    "from sklearn.pipeline import make_pipeline\n",
    "from sklearn.preprocessing import StandardScaler\n",
    "from sklearn.decomposition import PCA\n",
    "from sklearn.model_selection import train_test_split\n",
    "from sklearn.dummy import DummyClassifier\n",
    "from sklearn.neighbors import KNeighborsClassifier\n",
    "from sklearn.linear_model import LogisticRegression\n",
    "from sklearn.tree import DecisionTreeClassifier\n",
    "from sklearn.ensemble import RandomForestClassifier\n",
    "from sklearn.metrics import confusion_matrix\n",
    "import matplotlib.pyplot as plt\n",
    "from imblearn.under_sampling import RandomUnderSampler\n",
    "from sklearn.metrics import classification_report\n",
    "from sklearn.model_selection import cross_val_score\n",
    "from optuna import create_study, Trial"
   ]
  },
  {
   "cell_type": "markdown",
   "id": "c08b2029",
   "metadata": {},
   "source": [
    "Criando o dataframe a partir do arquivo .csv com o dataset:"
   ]
  },
  {
   "cell_type": "code",
   "execution_count": 2,
   "id": "540b472d-1372-4a23-95e2-d3881499511a",
   "metadata": {},
   "outputs": [
    {
     "data": {
      "text/html": [
       "<div>\n",
       "<style scoped>\n",
       "    .dataframe tbody tr th:only-of-type {\n",
       "        vertical-align: middle;\n",
       "    }\n",
       "\n",
       "    .dataframe tbody tr th {\n",
       "        vertical-align: top;\n",
       "    }\n",
       "\n",
       "    .dataframe thead th {\n",
       "        text-align: right;\n",
       "    }\n",
       "</style>\n",
       "<table border=\"1\" class=\"dataframe\">\n",
       "  <thead>\n",
       "    <tr style=\"text-align: right;\">\n",
       "      <th></th>\n",
       "      <th>sex</th>\n",
       "      <th>age</th>\n",
       "      <th>height</th>\n",
       "      <th>weight</th>\n",
       "      <th>waistline</th>\n",
       "      <th>sight_left</th>\n",
       "      <th>sight_right</th>\n",
       "      <th>hear_left</th>\n",
       "      <th>hear_right</th>\n",
       "      <th>SBP</th>\n",
       "      <th>...</th>\n",
       "      <th>LDL_chole</th>\n",
       "      <th>triglyceride</th>\n",
       "      <th>hemoglobin</th>\n",
       "      <th>urine_protein</th>\n",
       "      <th>serum_creatinine</th>\n",
       "      <th>SGOT_AST</th>\n",
       "      <th>SGOT_ALT</th>\n",
       "      <th>gamma_GTP</th>\n",
       "      <th>SMK_stat_type_cd</th>\n",
       "      <th>DRK_YN</th>\n",
       "    </tr>\n",
       "  </thead>\n",
       "  <tbody>\n",
       "    <tr>\n",
       "      <th>0</th>\n",
       "      <td>Male</td>\n",
       "      <td>35</td>\n",
       "      <td>170</td>\n",
       "      <td>75</td>\n",
       "      <td>90.0</td>\n",
       "      <td>1.0</td>\n",
       "      <td>1.0</td>\n",
       "      <td>1.0</td>\n",
       "      <td>1.0</td>\n",
       "      <td>120.0</td>\n",
       "      <td>...</td>\n",
       "      <td>126.0</td>\n",
       "      <td>92.0</td>\n",
       "      <td>17.1</td>\n",
       "      <td>1.0</td>\n",
       "      <td>1.0</td>\n",
       "      <td>21.0</td>\n",
       "      <td>35.0</td>\n",
       "      <td>40.0</td>\n",
       "      <td>1.0</td>\n",
       "      <td>Y</td>\n",
       "    </tr>\n",
       "    <tr>\n",
       "      <th>1</th>\n",
       "      <td>Male</td>\n",
       "      <td>30</td>\n",
       "      <td>180</td>\n",
       "      <td>80</td>\n",
       "      <td>89.0</td>\n",
       "      <td>0.9</td>\n",
       "      <td>1.2</td>\n",
       "      <td>1.0</td>\n",
       "      <td>1.0</td>\n",
       "      <td>130.0</td>\n",
       "      <td>...</td>\n",
       "      <td>148.0</td>\n",
       "      <td>121.0</td>\n",
       "      <td>15.8</td>\n",
       "      <td>1.0</td>\n",
       "      <td>0.9</td>\n",
       "      <td>20.0</td>\n",
       "      <td>36.0</td>\n",
       "      <td>27.0</td>\n",
       "      <td>3.0</td>\n",
       "      <td>N</td>\n",
       "    </tr>\n",
       "    <tr>\n",
       "      <th>2</th>\n",
       "      <td>Male</td>\n",
       "      <td>40</td>\n",
       "      <td>165</td>\n",
       "      <td>75</td>\n",
       "      <td>91.0</td>\n",
       "      <td>1.2</td>\n",
       "      <td>1.5</td>\n",
       "      <td>1.0</td>\n",
       "      <td>1.0</td>\n",
       "      <td>120.0</td>\n",
       "      <td>...</td>\n",
       "      <td>74.0</td>\n",
       "      <td>104.0</td>\n",
       "      <td>15.8</td>\n",
       "      <td>1.0</td>\n",
       "      <td>0.9</td>\n",
       "      <td>47.0</td>\n",
       "      <td>32.0</td>\n",
       "      <td>68.0</td>\n",
       "      <td>1.0</td>\n",
       "      <td>N</td>\n",
       "    </tr>\n",
       "    <tr>\n",
       "      <th>3</th>\n",
       "      <td>Male</td>\n",
       "      <td>50</td>\n",
       "      <td>175</td>\n",
       "      <td>80</td>\n",
       "      <td>91.0</td>\n",
       "      <td>1.5</td>\n",
       "      <td>1.2</td>\n",
       "      <td>1.0</td>\n",
       "      <td>1.0</td>\n",
       "      <td>145.0</td>\n",
       "      <td>...</td>\n",
       "      <td>104.0</td>\n",
       "      <td>106.0</td>\n",
       "      <td>17.6</td>\n",
       "      <td>1.0</td>\n",
       "      <td>1.1</td>\n",
       "      <td>29.0</td>\n",
       "      <td>34.0</td>\n",
       "      <td>18.0</td>\n",
       "      <td>1.0</td>\n",
       "      <td>N</td>\n",
       "    </tr>\n",
       "    <tr>\n",
       "      <th>4</th>\n",
       "      <td>Male</td>\n",
       "      <td>50</td>\n",
       "      <td>165</td>\n",
       "      <td>60</td>\n",
       "      <td>80.0</td>\n",
       "      <td>1.0</td>\n",
       "      <td>1.2</td>\n",
       "      <td>1.0</td>\n",
       "      <td>1.0</td>\n",
       "      <td>138.0</td>\n",
       "      <td>...</td>\n",
       "      <td>117.0</td>\n",
       "      <td>104.0</td>\n",
       "      <td>13.8</td>\n",
       "      <td>1.0</td>\n",
       "      <td>0.8</td>\n",
       "      <td>19.0</td>\n",
       "      <td>12.0</td>\n",
       "      <td>25.0</td>\n",
       "      <td>1.0</td>\n",
       "      <td>N</td>\n",
       "    </tr>\n",
       "    <tr>\n",
       "      <th>...</th>\n",
       "      <td>...</td>\n",
       "      <td>...</td>\n",
       "      <td>...</td>\n",
       "      <td>...</td>\n",
       "      <td>...</td>\n",
       "      <td>...</td>\n",
       "      <td>...</td>\n",
       "      <td>...</td>\n",
       "      <td>...</td>\n",
       "      <td>...</td>\n",
       "      <td>...</td>\n",
       "      <td>...</td>\n",
       "      <td>...</td>\n",
       "      <td>...</td>\n",
       "      <td>...</td>\n",
       "      <td>...</td>\n",
       "      <td>...</td>\n",
       "      <td>...</td>\n",
       "      <td>...</td>\n",
       "      <td>...</td>\n",
       "      <td>...</td>\n",
       "    </tr>\n",
       "    <tr>\n",
       "      <th>26956</th>\n",
       "      <td>Male</td>\n",
       "      <td>40</td>\n",
       "      <td>170</td>\n",
       "      <td>70</td>\n",
       "      <td>91.0</td>\n",
       "      <td>1.2</td>\n",
       "      <td>1.2</td>\n",
       "      <td>1.0</td>\n",
       "      <td>1.0</td>\n",
       "      <td>124.0</td>\n",
       "      <td>...</td>\n",
       "      <td>121.0</td>\n",
       "      <td>104.0</td>\n",
       "      <td>15.6</td>\n",
       "      <td>1.0</td>\n",
       "      <td>0.8</td>\n",
       "      <td>36.0</td>\n",
       "      <td>59.0</td>\n",
       "      <td>47.0</td>\n",
       "      <td>2.0</td>\n",
       "      <td>Y</td>\n",
       "    </tr>\n",
       "    <tr>\n",
       "      <th>26957</th>\n",
       "      <td>Male</td>\n",
       "      <td>65</td>\n",
       "      <td>160</td>\n",
       "      <td>65</td>\n",
       "      <td>87.0</td>\n",
       "      <td>1.0</td>\n",
       "      <td>1.0</td>\n",
       "      <td>1.0</td>\n",
       "      <td>1.0</td>\n",
       "      <td>133.0</td>\n",
       "      <td>...</td>\n",
       "      <td>59.0</td>\n",
       "      <td>177.0</td>\n",
       "      <td>15.5</td>\n",
       "      <td>1.0</td>\n",
       "      <td>1.0</td>\n",
       "      <td>29.0</td>\n",
       "      <td>20.0</td>\n",
       "      <td>43.0</td>\n",
       "      <td>2.0</td>\n",
       "      <td>Y</td>\n",
       "    </tr>\n",
       "    <tr>\n",
       "      <th>26958</th>\n",
       "      <td>Female</td>\n",
       "      <td>50</td>\n",
       "      <td>155</td>\n",
       "      <td>55</td>\n",
       "      <td>77.0</td>\n",
       "      <td>1.2</td>\n",
       "      <td>1.2</td>\n",
       "      <td>1.0</td>\n",
       "      <td>1.0</td>\n",
       "      <td>138.0</td>\n",
       "      <td>...</td>\n",
       "      <td>205.0</td>\n",
       "      <td>320.0</td>\n",
       "      <td>14.4</td>\n",
       "      <td>1.0</td>\n",
       "      <td>0.8</td>\n",
       "      <td>25.0</td>\n",
       "      <td>23.0</td>\n",
       "      <td>39.0</td>\n",
       "      <td>1.0</td>\n",
       "      <td>N</td>\n",
       "    </tr>\n",
       "    <tr>\n",
       "      <th>26959</th>\n",
       "      <td>Male</td>\n",
       "      <td>40</td>\n",
       "      <td>170</td>\n",
       "      <td>90</td>\n",
       "      <td>92.0</td>\n",
       "      <td>0.9</td>\n",
       "      <td>1.0</td>\n",
       "      <td>1.0</td>\n",
       "      <td>1.0</td>\n",
       "      <td>140.0</td>\n",
       "      <td>...</td>\n",
       "      <td>143.0</td>\n",
       "      <td>362.0</td>\n",
       "      <td>17.2</td>\n",
       "      <td>1.0</td>\n",
       "      <td>0.8</td>\n",
       "      <td>30.0</td>\n",
       "      <td>57.0</td>\n",
       "      <td>146.0</td>\n",
       "      <td>2.0</td>\n",
       "      <td>Y</td>\n",
       "    </tr>\n",
       "    <tr>\n",
       "      <th>26960</th>\n",
       "      <td>Male</td>\n",
       "      <td>55</td>\n",
       "      <td>155</td>\n",
       "      <td>50</td>\n",
       "      <td>70.0</td>\n",
       "      <td>1.0</td>\n",
       "      <td>0.6</td>\n",
       "      <td>1.0</td>\n",
       "      <td>1.0</td>\n",
       "      <td>147.0</td>\n",
       "      <td>...</td>\n",
       "      <td>86.0</td>\n",
       "      <td>96.0</td>\n",
       "      <td>14.0</td>\n",
       "      <td>1.0</td>\n",
       "      <td>0.9</td>\n",
       "      <td>50.0</td>\n",
       "      <td>41.0</td>\n",
       "      <td>74.0</td>\n",
       "      <td>2.0</td>\n",
       "      <td>Y</td>\n",
       "    </tr>\n",
       "  </tbody>\n",
       "</table>\n",
       "<p>26961 rows × 24 columns</p>\n",
       "</div>"
      ],
      "text/plain": [
       "          sex  age  height  weight  waistline  sight_left  sight_right  \\\n",
       "0        Male   35     170      75       90.0         1.0          1.0   \n",
       "1        Male   30     180      80       89.0         0.9          1.2   \n",
       "2        Male   40     165      75       91.0         1.2          1.5   \n",
       "3        Male   50     175      80       91.0         1.5          1.2   \n",
       "4        Male   50     165      60       80.0         1.0          1.2   \n",
       "...       ...  ...     ...     ...        ...         ...          ...   \n",
       "26956    Male   40     170      70       91.0         1.2          1.2   \n",
       "26957    Male   65     160      65       87.0         1.0          1.0   \n",
       "26958  Female   50     155      55       77.0         1.2          1.2   \n",
       "26959    Male   40     170      90       92.0         0.9          1.0   \n",
       "26960    Male   55     155      50       70.0         1.0          0.6   \n",
       "\n",
       "       hear_left  hear_right    SBP  ...  LDL_chole  triglyceride  hemoglobin  \\\n",
       "0            1.0         1.0  120.0  ...      126.0          92.0        17.1   \n",
       "1            1.0         1.0  130.0  ...      148.0         121.0        15.8   \n",
       "2            1.0         1.0  120.0  ...       74.0         104.0        15.8   \n",
       "3            1.0         1.0  145.0  ...      104.0         106.0        17.6   \n",
       "4            1.0         1.0  138.0  ...      117.0         104.0        13.8   \n",
       "...          ...         ...    ...  ...        ...           ...         ...   \n",
       "26956        1.0         1.0  124.0  ...      121.0         104.0        15.6   \n",
       "26957        1.0         1.0  133.0  ...       59.0         177.0        15.5   \n",
       "26958        1.0         1.0  138.0  ...      205.0         320.0        14.4   \n",
       "26959        1.0         1.0  140.0  ...      143.0         362.0        17.2   \n",
       "26960        1.0         1.0  147.0  ...       86.0          96.0        14.0   \n",
       "\n",
       "       urine_protein  serum_creatinine  SGOT_AST  SGOT_ALT  gamma_GTP  \\\n",
       "0                1.0               1.0      21.0      35.0       40.0   \n",
       "1                1.0               0.9      20.0      36.0       27.0   \n",
       "2                1.0               0.9      47.0      32.0       68.0   \n",
       "3                1.0               1.1      29.0      34.0       18.0   \n",
       "4                1.0               0.8      19.0      12.0       25.0   \n",
       "...              ...               ...       ...       ...        ...   \n",
       "26956            1.0               0.8      36.0      59.0       47.0   \n",
       "26957            1.0               1.0      29.0      20.0       43.0   \n",
       "26958            1.0               0.8      25.0      23.0       39.0   \n",
       "26959            1.0               0.8      30.0      57.0      146.0   \n",
       "26960            1.0               0.9      50.0      41.0       74.0   \n",
       "\n",
       "       SMK_stat_type_cd  DRK_YN  \n",
       "0                   1.0       Y  \n",
       "1                   3.0       N  \n",
       "2                   1.0       N  \n",
       "3                   1.0       N  \n",
       "4                   1.0       N  \n",
       "...                 ...     ...  \n",
       "26956               2.0       Y  \n",
       "26957               2.0       Y  \n",
       "26958               1.0       N  \n",
       "26959               2.0       Y  \n",
       "26960               2.0       Y  \n",
       "\n",
       "[26961 rows x 24 columns]"
      ]
     },
     "execution_count": 2,
     "metadata": {},
     "output_type": "execute_result"
    }
   ],
   "source": [
    "nome_do_arquivo = \"smoking_dataset_deus.csv\"\n",
    "df = pd.read_csv(nome_do_arquivo)\n",
    "df"
   ]
  },
  {
   "cell_type": "markdown",
   "id": "f3739624",
   "metadata": {},
   "source": [
    "Explorando o dataset:"
   ]
  },
  {
   "cell_type": "code",
   "execution_count": 3,
   "id": "6e7a5355-e387-4466-bc9c-e59d91a65cca",
   "metadata": {},
   "outputs": [
    {
     "data": {
      "text/html": [
       "<div>\n",
       "<style scoped>\n",
       "    .dataframe tbody tr th:only-of-type {\n",
       "        vertical-align: middle;\n",
       "    }\n",
       "\n",
       "    .dataframe tbody tr th {\n",
       "        vertical-align: top;\n",
       "    }\n",
       "\n",
       "    .dataframe thead th {\n",
       "        text-align: right;\n",
       "    }\n",
       "</style>\n",
       "<table border=\"1\" class=\"dataframe\">\n",
       "  <thead>\n",
       "    <tr style=\"text-align: right;\">\n",
       "      <th></th>\n",
       "      <th>age</th>\n",
       "      <th>height</th>\n",
       "      <th>weight</th>\n",
       "      <th>waistline</th>\n",
       "      <th>sight_left</th>\n",
       "      <th>sight_right</th>\n",
       "      <th>hear_left</th>\n",
       "      <th>hear_right</th>\n",
       "      <th>SBP</th>\n",
       "      <th>DBP</th>\n",
       "      <th>...</th>\n",
       "      <th>HDL_chole</th>\n",
       "      <th>LDL_chole</th>\n",
       "      <th>triglyceride</th>\n",
       "      <th>hemoglobin</th>\n",
       "      <th>urine_protein</th>\n",
       "      <th>serum_creatinine</th>\n",
       "      <th>SGOT_AST</th>\n",
       "      <th>SGOT_ALT</th>\n",
       "      <th>gamma_GTP</th>\n",
       "      <th>SMK_stat_type_cd</th>\n",
       "    </tr>\n",
       "  </thead>\n",
       "  <tbody>\n",
       "    <tr>\n",
       "      <th>count</th>\n",
       "      <td>26961.000000</td>\n",
       "      <td>26961.000000</td>\n",
       "      <td>26961.000000</td>\n",
       "      <td>26961.000000</td>\n",
       "      <td>26961.000000</td>\n",
       "      <td>26961.000000</td>\n",
       "      <td>26961.000000</td>\n",
       "      <td>26961.000000</td>\n",
       "      <td>26961.000000</td>\n",
       "      <td>26961.000000</td>\n",
       "      <td>...</td>\n",
       "      <td>26961.000000</td>\n",
       "      <td>26961.000000</td>\n",
       "      <td>26961.000000</td>\n",
       "      <td>26961.000000</td>\n",
       "      <td>26961.000000</td>\n",
       "      <td>26961.000000</td>\n",
       "      <td>26961.000000</td>\n",
       "      <td>26961.000000</td>\n",
       "      <td>26961.000000</td>\n",
       "      <td>26961.000000</td>\n",
       "    </tr>\n",
       "    <tr>\n",
       "      <th>mean</th>\n",
       "      <td>47.572234</td>\n",
       "      <td>162.304069</td>\n",
       "      <td>63.322206</td>\n",
       "      <td>81.282831</td>\n",
       "      <td>0.981863</td>\n",
       "      <td>0.979177</td>\n",
       "      <td>1.029079</td>\n",
       "      <td>1.029302</td>\n",
       "      <td>122.479953</td>\n",
       "      <td>76.085902</td>\n",
       "      <td>...</td>\n",
       "      <td>57.226624</td>\n",
       "      <td>113.073031</td>\n",
       "      <td>133.225808</td>\n",
       "      <td>14.234246</td>\n",
       "      <td>1.098364</td>\n",
       "      <td>0.859438</td>\n",
       "      <td>25.832833</td>\n",
       "      <td>25.687623</td>\n",
       "      <td>36.921961</td>\n",
       "      <td>1.612477</td>\n",
       "    </tr>\n",
       "    <tr>\n",
       "      <th>std</th>\n",
       "      <td>14.142484</td>\n",
       "      <td>9.274041</td>\n",
       "      <td>12.514872</td>\n",
       "      <td>12.440768</td>\n",
       "      <td>0.615970</td>\n",
       "      <td>0.601425</td>\n",
       "      <td>0.168031</td>\n",
       "      <td>0.168654</td>\n",
       "      <td>14.574198</td>\n",
       "      <td>9.955917</td>\n",
       "      <td>...</td>\n",
       "      <td>51.411960</td>\n",
       "      <td>45.845803</td>\n",
       "      <td>118.219867</td>\n",
       "      <td>1.580116</td>\n",
       "      <td>0.446846</td>\n",
       "      <td>0.321233</td>\n",
       "      <td>15.919488</td>\n",
       "      <td>24.687246</td>\n",
       "      <td>47.775015</td>\n",
       "      <td>0.820978</td>\n",
       "    </tr>\n",
       "    <tr>\n",
       "      <th>min</th>\n",
       "      <td>20.000000</td>\n",
       "      <td>135.000000</td>\n",
       "      <td>30.000000</td>\n",
       "      <td>35.000000</td>\n",
       "      <td>0.100000</td>\n",
       "      <td>0.100000</td>\n",
       "      <td>1.000000</td>\n",
       "      <td>1.000000</td>\n",
       "      <td>75.000000</td>\n",
       "      <td>42.000000</td>\n",
       "      <td>...</td>\n",
       "      <td>4.000000</td>\n",
       "      <td>1.000000</td>\n",
       "      <td>1.000000</td>\n",
       "      <td>6.100000</td>\n",
       "      <td>1.000000</td>\n",
       "      <td>0.100000</td>\n",
       "      <td>4.000000</td>\n",
       "      <td>2.000000</td>\n",
       "      <td>2.000000</td>\n",
       "      <td>1.000000</td>\n",
       "    </tr>\n",
       "    <tr>\n",
       "      <th>25%</th>\n",
       "      <td>35.000000</td>\n",
       "      <td>155.000000</td>\n",
       "      <td>55.000000</td>\n",
       "      <td>74.200000</td>\n",
       "      <td>0.700000</td>\n",
       "      <td>0.700000</td>\n",
       "      <td>1.000000</td>\n",
       "      <td>1.000000</td>\n",
       "      <td>112.000000</td>\n",
       "      <td>70.000000</td>\n",
       "      <td>...</td>\n",
       "      <td>46.000000</td>\n",
       "      <td>89.000000</td>\n",
       "      <td>73.000000</td>\n",
       "      <td>13.200000</td>\n",
       "      <td>1.000000</td>\n",
       "      <td>0.700000</td>\n",
       "      <td>19.000000</td>\n",
       "      <td>15.000000</td>\n",
       "      <td>16.000000</td>\n",
       "      <td>1.000000</td>\n",
       "    </tr>\n",
       "    <tr>\n",
       "      <th>50%</th>\n",
       "      <td>45.000000</td>\n",
       "      <td>160.000000</td>\n",
       "      <td>60.000000</td>\n",
       "      <td>81.000000</td>\n",
       "      <td>1.000000</td>\n",
       "      <td>1.000000</td>\n",
       "      <td>1.000000</td>\n",
       "      <td>1.000000</td>\n",
       "      <td>120.000000</td>\n",
       "      <td>76.000000</td>\n",
       "      <td>...</td>\n",
       "      <td>55.000000</td>\n",
       "      <td>111.000000</td>\n",
       "      <td>107.000000</td>\n",
       "      <td>14.300000</td>\n",
       "      <td>1.000000</td>\n",
       "      <td>0.800000</td>\n",
       "      <td>23.000000</td>\n",
       "      <td>20.000000</td>\n",
       "      <td>23.000000</td>\n",
       "      <td>1.000000</td>\n",
       "    </tr>\n",
       "    <tr>\n",
       "      <th>75%</th>\n",
       "      <td>60.000000</td>\n",
       "      <td>170.000000</td>\n",
       "      <td>70.000000</td>\n",
       "      <td>87.600000</td>\n",
       "      <td>1.200000</td>\n",
       "      <td>1.200000</td>\n",
       "      <td>1.000000</td>\n",
       "      <td>1.000000</td>\n",
       "      <td>131.000000</td>\n",
       "      <td>82.000000</td>\n",
       "      <td>...</td>\n",
       "      <td>66.000000</td>\n",
       "      <td>135.000000</td>\n",
       "      <td>159.000000</td>\n",
       "      <td>15.400000</td>\n",
       "      <td>1.000000</td>\n",
       "      <td>1.000000</td>\n",
       "      <td>28.000000</td>\n",
       "      <td>30.000000</td>\n",
       "      <td>40.000000</td>\n",
       "      <td>2.000000</td>\n",
       "    </tr>\n",
       "    <tr>\n",
       "      <th>max</th>\n",
       "      <td>85.000000</td>\n",
       "      <td>190.000000</td>\n",
       "      <td>130.000000</td>\n",
       "      <td>999.000000</td>\n",
       "      <td>9.900000</td>\n",
       "      <td>9.900000</td>\n",
       "      <td>2.000000</td>\n",
       "      <td>2.000000</td>\n",
       "      <td>230.000000</td>\n",
       "      <td>160.000000</td>\n",
       "      <td>...</td>\n",
       "      <td>8110.000000</td>\n",
       "      <td>5119.000000</td>\n",
       "      <td>9490.000000</td>\n",
       "      <td>20.300000</td>\n",
       "      <td>6.000000</td>\n",
       "      <td>23.000000</td>\n",
       "      <td>924.000000</td>\n",
       "      <td>2309.000000</td>\n",
       "      <td>999.000000</td>\n",
       "      <td>3.000000</td>\n",
       "    </tr>\n",
       "  </tbody>\n",
       "</table>\n",
       "<p>8 rows × 22 columns</p>\n",
       "</div>"
      ],
      "text/plain": [
       "                age        height        weight     waistline    sight_left  \\\n",
       "count  26961.000000  26961.000000  26961.000000  26961.000000  26961.000000   \n",
       "mean      47.572234    162.304069     63.322206     81.282831      0.981863   \n",
       "std       14.142484      9.274041     12.514872     12.440768      0.615970   \n",
       "min       20.000000    135.000000     30.000000     35.000000      0.100000   \n",
       "25%       35.000000    155.000000     55.000000     74.200000      0.700000   \n",
       "50%       45.000000    160.000000     60.000000     81.000000      1.000000   \n",
       "75%       60.000000    170.000000     70.000000     87.600000      1.200000   \n",
       "max       85.000000    190.000000    130.000000    999.000000      9.900000   \n",
       "\n",
       "        sight_right     hear_left    hear_right           SBP           DBP  \\\n",
       "count  26961.000000  26961.000000  26961.000000  26961.000000  26961.000000   \n",
       "mean       0.979177      1.029079      1.029302    122.479953     76.085902   \n",
       "std        0.601425      0.168031      0.168654     14.574198      9.955917   \n",
       "min        0.100000      1.000000      1.000000     75.000000     42.000000   \n",
       "25%        0.700000      1.000000      1.000000    112.000000     70.000000   \n",
       "50%        1.000000      1.000000      1.000000    120.000000     76.000000   \n",
       "75%        1.200000      1.000000      1.000000    131.000000     82.000000   \n",
       "max        9.900000      2.000000      2.000000    230.000000    160.000000   \n",
       "\n",
       "       ...     HDL_chole     LDL_chole  triglyceride    hemoglobin  \\\n",
       "count  ...  26961.000000  26961.000000  26961.000000  26961.000000   \n",
       "mean   ...     57.226624    113.073031    133.225808     14.234246   \n",
       "std    ...     51.411960     45.845803    118.219867      1.580116   \n",
       "min    ...      4.000000      1.000000      1.000000      6.100000   \n",
       "25%    ...     46.000000     89.000000     73.000000     13.200000   \n",
       "50%    ...     55.000000    111.000000    107.000000     14.300000   \n",
       "75%    ...     66.000000    135.000000    159.000000     15.400000   \n",
       "max    ...   8110.000000   5119.000000   9490.000000     20.300000   \n",
       "\n",
       "       urine_protein  serum_creatinine      SGOT_AST      SGOT_ALT  \\\n",
       "count   26961.000000      26961.000000  26961.000000  26961.000000   \n",
       "mean        1.098364          0.859438     25.832833     25.687623   \n",
       "std         0.446846          0.321233     15.919488     24.687246   \n",
       "min         1.000000          0.100000      4.000000      2.000000   \n",
       "25%         1.000000          0.700000     19.000000     15.000000   \n",
       "50%         1.000000          0.800000     23.000000     20.000000   \n",
       "75%         1.000000          1.000000     28.000000     30.000000   \n",
       "max         6.000000         23.000000    924.000000   2309.000000   \n",
       "\n",
       "          gamma_GTP  SMK_stat_type_cd  \n",
       "count  26961.000000      26961.000000  \n",
       "mean      36.921961          1.612477  \n",
       "std       47.775015          0.820978  \n",
       "min        2.000000          1.000000  \n",
       "25%       16.000000          1.000000  \n",
       "50%       23.000000          1.000000  \n",
       "75%       40.000000          2.000000  \n",
       "max      999.000000          3.000000  \n",
       "\n",
       "[8 rows x 22 columns]"
      ]
     },
     "execution_count": 3,
     "metadata": {},
     "output_type": "execute_result"
    }
   ],
   "source": [
    "df.describe()"
   ]
  },
  {
   "cell_type": "markdown",
   "id": "a302e121",
   "metadata": {},
   "source": [
    "Analisando os tipos de dados do dataframe:"
   ]
  },
  {
   "cell_type": "code",
   "execution_count": 4,
   "id": "57b1adf3-124c-43bb-89a1-7df68744e040",
   "metadata": {},
   "outputs": [
    {
     "name": "stdout",
     "output_type": "stream",
     "text": [
      "sex                  object\n",
      "age                   int64\n",
      "height                int64\n",
      "weight                int64\n",
      "waistline           float64\n",
      "sight_left          float64\n",
      "sight_right         float64\n",
      "hear_left           float64\n",
      "hear_right          float64\n",
      "SBP                 float64\n",
      "DBP                 float64\n",
      "BLDS                float64\n",
      "tot_chole           float64\n",
      "HDL_chole           float64\n",
      "LDL_chole           float64\n",
      "triglyceride        float64\n",
      "hemoglobin          float64\n",
      "urine_protein       float64\n",
      "serum_creatinine    float64\n",
      "SGOT_AST            float64\n",
      "SGOT_ALT            float64\n",
      "gamma_GTP           float64\n",
      "SMK_stat_type_cd    float64\n",
      "DRK_YN               object\n",
      "dtype: object\n"
     ]
    }
   ],
   "source": [
    "print(df.dtypes)"
   ]
  },
  {
   "cell_type": "markdown",
   "id": "bc62d9bc",
   "metadata": {},
   "source": [
    "Convertendo os dados para os tipos mais adequados:"
   ]
  },
  {
   "cell_type": "code",
   "execution_count": 5,
   "id": "519ab324-540e-4d90-9059-c4ea3f4835e1",
   "metadata": {},
   "outputs": [
    {
     "name": "stdout",
     "output_type": "stream",
     "text": [
      "sex                 string[python]\n",
      "age                          Int64\n",
      "height                       Int64\n",
      "weight                       Int64\n",
      "waistline                  Float64\n",
      "sight_left                 Float64\n",
      "sight_right                Float64\n",
      "hear_left                    Int64\n",
      "hear_right                   Int64\n",
      "SBP                          Int64\n",
      "DBP                          Int64\n",
      "BLDS                         Int64\n",
      "tot_chole                    Int64\n",
      "HDL_chole                    Int64\n",
      "LDL_chole                    Int64\n",
      "triglyceride                 Int64\n",
      "hemoglobin                 Float64\n",
      "urine_protein                Int64\n",
      "serum_creatinine           Float64\n",
      "SGOT_AST                     Int64\n",
      "SGOT_ALT                     Int64\n",
      "gamma_GTP                    Int64\n",
      "SMK_stat_type_cd             Int64\n",
      "DRK_YN              string[python]\n",
      "dtype: object\n"
     ]
    }
   ],
   "source": [
    "df = df.convert_dtypes()\n",
    "print(df.dtypes)"
   ]
  },
  {
   "cell_type": "markdown",
   "id": "2c5d94a9",
   "metadata": {},
   "source": [
    "<u>Conversões:</u><br>\n",
    "Transformando a coluna DRK_YN, que antes era em N e Y, para 0 e 1 - respectivamente."
   ]
  },
  {
   "cell_type": "code",
   "execution_count": 6,
   "id": "6032cc81-e749-45c0-a42c-4a154eaec0b8",
   "metadata": {},
   "outputs": [
    {
     "name": "stdout",
     "output_type": "stream",
     "text": [
      "       DRK_YN     sex  age  height  weight  waistline  sight_left  \\\n",
      "0        True    Male   35     170      75       90.0         1.0   \n",
      "1       False    Male   30     180      80       89.0         0.9   \n",
      "2       False    Male   40     165      75       91.0         1.2   \n",
      "3       False    Male   50     175      80       91.0         1.5   \n",
      "4       False    Male   50     165      60       80.0         1.0   \n",
      "...       ...     ...  ...     ...     ...        ...         ...   \n",
      "26956    True    Male   40     170      70       91.0         1.2   \n",
      "26957    True    Male   65     160      65       87.0         1.0   \n",
      "26958   False  Female   50     155      55       77.0         1.2   \n",
      "26959    True    Male   40     170      90       92.0         0.9   \n",
      "26960    True    Male   55     155      50       70.0         1.0   \n",
      "\n",
      "       sight_right  hear_left  hear_right  ...  HDL_chole  LDL_chole  \\\n",
      "0              1.0          1           1  ...         48        126   \n",
      "1              1.2          1           1  ...         55        148   \n",
      "2              1.5          1           1  ...         41         74   \n",
      "3              1.2          1           1  ...         76        104   \n",
      "4              1.2          1           1  ...         61        117   \n",
      "...            ...        ...         ...  ...        ...        ...   \n",
      "26956          1.2          1           1  ...         47        121   \n",
      "26957          1.0          1           1  ...         39         59   \n",
      "26958          1.2          1           1  ...         56        205   \n",
      "26959          1.0          1           1  ...         68        143   \n",
      "26960          0.6          1           1  ...         71         86   \n",
      "\n",
      "       triglyceride  hemoglobin  urine_protein  serum_creatinine  SGOT_AST  \\\n",
      "0                92        17.1              1               1.0        21   \n",
      "1               121        15.8              1               0.9        20   \n",
      "2               104        15.8              1               0.9        47   \n",
      "3               106        17.6              1               1.1        29   \n",
      "4               104        13.8              1               0.8        19   \n",
      "...             ...         ...            ...               ...       ...   \n",
      "26956           104        15.6              1               0.8        36   \n",
      "26957           177        15.5              1               1.0        29   \n",
      "26958           320        14.4              1               0.8        25   \n",
      "26959           362        17.2              1               0.8        30   \n",
      "26960            96        14.0              1               0.9        50   \n",
      "\n",
      "       SGOT_ALT  gamma_GTP  SMK_stat_type_cd  \n",
      "0            35         40                 1  \n",
      "1            36         27                 3  \n",
      "2            32         68                 1  \n",
      "3            34         18                 1  \n",
      "4            12         25                 1  \n",
      "...         ...        ...               ...  \n",
      "26956        59         47                 2  \n",
      "26957        20         43                 2  \n",
      "26958        23         39                 1  \n",
      "26959        57        146                 2  \n",
      "26960        41         74                 2  \n",
      "\n",
      "[26961 rows x 24 columns]\n"
     ]
    }
   ],
   "source": [
    "df_one = pd.get_dummies(df[\"DRK_YN\"])\n",
    "df_two = pd.concat((df_one, df), axis=1)\n",
    "df_two = df_two.drop([\"DRK_YN\"], axis=1)\n",
    "df_two = df_two.drop([\"N\"], axis=1)\n",
    "df = df_two.rename(columns={\"Y\": \"DRK_YN\"})\n",
    "print(df)"
   ]
  },
  {
   "cell_type": "markdown",
   "id": "60defc33",
   "metadata": {},
   "source": [
    "Definindo nossas features, target, quantidade de dados que são reservados para o teste, semente aleatória (que será a mesma para todo o código) e realizando o split de dados:"
   ]
  },
  {
   "cell_type": "code",
   "execution_count": 7,
   "id": "cb277e94-8790-4555-a94f-01c069b62375",
   "metadata": {},
   "outputs": [],
   "source": [
    "FEATURES = [\"weight\", \"sight_left\", \"sight_right\", \"hear_left\", \"hear_right\", \"SBP\", \"DBP\", \"tot_chole\", \"HDL_chole\", \"LDL_chole\", \"triglyceride\", \"hemoglobin\", \"urine_protein\", \"serum_creatinine\", \"SGOT_AST\", \"SGOT_ALT\", \"gamma_GTP\"]\n",
    "TARGET = [\"DRK_YN\"]\n",
    "\n",
    "df = df.reindex(FEATURES + TARGET, axis=1)\n",
    "df = df.dropna()\n",
    "\n",
    "X = df.reindex(FEATURES, axis=1)\n",
    "y = df.reindex(TARGET, axis=1)\n",
    "\n",
    "X = X.values\n",
    "y = y.values.ravel()  # o método `ravel` deixa os dados em 1 dimensão\n",
    "\n",
    "TAMANHO_TESTE = 0.1\n",
    "SEMENTE_ALEATORIA = 61455\n",
    "\n",
    "X_treino, X_teste, y_treino, y_teste = train_test_split(\n",
    "    X, y, test_size=TAMANHO_TESTE, random_state=SEMENTE_ALEATORIA\n",
    ")"
   ]
  },
  {
   "cell_type": "markdown",
   "id": "1b361dba",
   "metadata": {},
   "source": [
    "<u>Balanceando os dados:</u><br>\n",
    "Utilizamos a técnica under-sampling, através da biblioteca imblearn."
   ]
  },
  {
   "cell_type": "code",
   "execution_count": 8,
   "id": "0ddf0201-e37d-41cb-a53f-4256f9b4dd20",
   "metadata": {},
   "outputs": [],
   "source": [
    "rus = RandomUnderSampler()\n",
    "X_res, y_res = rus.fit_resample(X_treino, y_treino)\n",
    "\n",
    "X_treino, y_treino = X_res, y_res"
   ]
  },
  {
   "cell_type": "markdown",
   "id": "206aabaf",
   "metadata": {},
   "source": [
    "Redução de dimensionalidade por análise das componentes principais (PCA):"
   ]
  },
  {
   "cell_type": "code",
   "execution_count": 9,
   "id": "de168511-fda9-461b-8435-04ef75b83ebe",
   "metadata": {},
   "outputs": [],
   "source": [
    "pca = PCA()\n",
    "\n",
    "pca.fit(X)\n",
    "\n",
    "autovalores = pca.explained_variance_\n",
    "autovetores = pca.components_.T\n",
    "\n",
    "variancia_explicada = pca.explained_variance_ratio_"
   ]
  },
  {
   "cell_type": "markdown",
   "id": "f3d0a76d",
   "metadata": {},
   "source": [
    "Plotando a variância das features:"
   ]
  },
  {
   "cell_type": "code",
   "execution_count": 10,
   "id": "5e2211f7-f4d1-4263-9200-5dbd32d0fcd7",
   "metadata": {},
   "outputs": [
    {
     "data": {
      "text/plain": [
       "[None]"
      ]
     },
     "execution_count": 10,
     "metadata": {},
     "output_type": "execute_result"
    },
    {
     "data": {
      "image/png": "[encoded data removed]",
      "text/plain": [
       "<Figure size 800x480 with 2 Axes>"
      ]
     },
     "metadata": {},
     "output_type": "display_data"
    }
   ],
   "source": [
    "id_componentes = np.arange(1, pca.n_components_ + 1)\n",
    "\n",
    "figura, eixos = plt.subplots(1, 2)\n",
    "\n",
    "eixos[0].bar(id_componentes, variancia_explicada)\n",
    "eixos[0].set(xlabel=\"Componente\", title=\"Variância explicada\", ylim=(0.0, 1.0))\n",
    "\n",
    "cv = np.cumsum(pca.explained_variance_ratio_)\n",
    "eixos[1].plot(np.r_[0, id_componentes], np.r_[0, cv], marker=\"o\")\n",
    "eixos[1].set(\n",
    "    xlabel=\"Número de componentes\",\n",
    "    title=\"Variância acumulada\",\n",
    "    ylim=(0.0, 1.0),\n",
    ")\n",
    "eixos[1].axhline(0.9, linestyle=\"--\", color=\"red\")\n",
    "\n",
    "figura.set(figwidth=8)"
   ]
  },
  {
   "cell_type": "markdown",
   "id": "b8d20a2a-ed06-4872-85b2-7f8e54690550",
   "metadata": {},
   "source": [
    "<u>Treinando o modelo composto de Dummy Classifier:</u><br>\n",
    "Utilizamos pipeline com as seguintes etapas: normalização de dados feita pelo método StandardScaler(), PCA com as features mais relevântes e o modelo DummyClassifier()."
   ]
  },
  {
   "cell_type": "code",
   "execution_count": 11,
   "id": "67c21aad-45ea-4350-8157-b4a07a6851ac",
   "metadata": {},
   "outputs": [
    {
     "data": {
      "text/plain": [
       "<Axes: >"
      ]
     },
     "execution_count": 11,
     "metadata": {},
     "output_type": "execute_result"
    },
    {
     "data": {
      "image/png": "[encoded data removed]",
      "text/plain": [
       "<Figure size 640x480 with 2 Axes>"
      ]
     },
     "metadata": {},
     "output_type": "display_data"
    }
   ],
   "source": [
    "modelo_baseline_composto = make_pipeline(\n",
    "    StandardScaler(),\n",
    "    DummyClassifier()\n",
    ")\n",
    "\n",
    "modelo_baseline_composto.fit(X_treino, y_treino)\n",
    "nomes_das_features = modelo_baseline_composto.classes_\n",
    "\n",
    "y_verdadeiro = y_teste\n",
    "y_previsao = modelo_baseline_composto.predict(X_teste)\n",
    "\n",
    "matriz_conf = confusion_matrix(y_verdadeiro, y_previsao, labels = nomes_das_features)\n",
    "\n",
    "df_conf = pd.DataFrame(matriz_conf, nomes_das_features, nomes_das_features)\n",
    "\n",
    "sns.heatmap(df_conf, annot=True, annot_kws={\"size\": 16})"
   ]
  },
  {
   "cell_type": "markdown",
   "id": "59163f8d",
   "metadata": {},
   "source": [
    "Computando a acurácia:"
   ]
  },
  {
   "cell_type": "code",
   "execution_count": 12,
   "id": "cc2bd9b3-56c1-47ae-a7b3-07e7c276e747",
   "metadata": {},
   "outputs": [
    {
     "name": "stdout",
     "output_type": "stream",
     "text": [
      "              precision    recall  f1-score   support\n",
      "\n",
      "       False       0.51      1.00      0.67      1363\n",
      "        True       0.00      0.00      0.00      1334\n",
      "\n",
      "    accuracy                           0.51      2697\n",
      "   macro avg       0.25      0.50      0.34      2697\n",
      "weighted avg       0.26      0.51      0.34      2697\n",
      "\n"
     ]
    },
    {
     "name": "stderr",
     "output_type": "stream",
     "text": [
      "/home/gustavo23000/anaconda3/envs/ilumpy/lib/python3.11/site-packages/sklearn/metrics/_classification.py:1471: UndefinedMetricWarning: Precision and F-score are ill-defined and being set to 0.0 in labels with no predicted samples. Use `zero_division` parameter to control this behavior.\n",
      "  _warn_prf(average, modifier, msg_start, len(result))\n",
      "/home/gustavo23000/anaconda3/envs/ilumpy/lib/python3.11/site-packages/sklearn/metrics/_classification.py:1471: UndefinedMetricWarning: Precision and F-score are ill-defined and being set to 0.0 in labels with no predicted samples. Use `zero_division` parameter to control this behavior.\n",
      "  _warn_prf(average, modifier, msg_start, len(result))\n",
      "/home/gustavo23000/anaconda3/envs/ilumpy/lib/python3.11/site-packages/sklearn/metrics/_classification.py:1471: UndefinedMetricWarning: Precision and F-score are ill-defined and being set to 0.0 in labels with no predicted samples. Use `zero_division` parameter to control this behavior.\n",
      "  _warn_prf(average, modifier, msg_start, len(result))\n"
     ]
    }
   ],
   "source": [
    "print(\n",
    "    classification_report(\n",
    "        y_verdadeiro, y_previsao\n",
    "    )\n",
    ")"
   ]
  },
  {
   "cell_type": "markdown",
   "id": "cca046c0-6307-4c9e-869f-6d7084ae84a5",
   "metadata": {},
   "source": [
    "<u>Treinando o modelo composto de KNN classificador: </u><br>\n",
    "Utilizamos pipeline com as seguintes etapas: normalização de dados feita pelo método StandardScaler(), PCA com as features mais relevântes e o modelo KNeighborsClassifier()."
   ]
  },
  {
   "cell_type": "code",
   "execution_count": 13,
   "id": "74f9fe21-689c-489c-8a45-c95ee476945c",
   "metadata": {},
   "outputs": [
    {
     "data": {
      "text/plain": [
       "<Axes: >"
      ]
     },
     "execution_count": 13,
     "metadata": {},
     "output_type": "execute_result"
    },
    {
     "data": {
      "image/png": "[encoded data removed]",
      "text/plain": [
       "<Figure size 640x480 with 2 Axes>"
      ]
     },
     "metadata": {},
     "output_type": "display_data"
    }
   ],
   "source": [
    "modelo_knn_composto = make_pipeline(\n",
    "    StandardScaler(),\n",
    "    KNeighborsClassifier()\n",
    ")\n",
    "\n",
    "modelo_knn_composto.fit(X_treino, y_treino)\n",
    "\n",
    "y_verdadeiro = y_teste\n",
    "y_previsao = modelo_knn_composto.predict(X_teste)\n",
    "\n",
    "matriz_conf = confusion_matrix(y_verdadeiro, y_previsao, labels = nomes_das_features)\n",
    "\n",
    "df_conf = pd.DataFrame(matriz_conf, nomes_das_features, nomes_das_features)\n",
    "\n",
    "sns.heatmap(df_conf, annot=True, annot_kws={\"size\": 16})"
   ]
  },
  {
   "cell_type": "markdown",
   "id": "7622c196",
   "metadata": {},
   "source": [
    "Computando a acurácia:"
   ]
  },
  {
   "cell_type": "code",
   "execution_count": 14,
   "id": "8013f061-7b38-49aa-a965-caf022e3a80b",
   "metadata": {},
   "outputs": [
    {
     "name": "stdout",
     "output_type": "stream",
     "text": [
      "              precision    recall  f1-score   support\n",
      "\n",
      "       False       0.65      0.64      0.65      1363\n",
      "        True       0.64      0.64      0.64      1334\n",
      "\n",
      "    accuracy                           0.64      2697\n",
      "   macro avg       0.64      0.64      0.64      2697\n",
      "weighted avg       0.64      0.64      0.64      2697\n",
      "\n"
     ]
    }
   ],
   "source": [
    "print(\n",
    "    classification_report(\n",
    "        y_verdadeiro, y_previsao\n",
    "    )\n",
    ")"
   ]
  },
  {
   "cell_type": "markdown",
   "id": "dd7f82c5-bcdd-426f-890a-8f224c84a3da",
   "metadata": {},
   "source": [
    "<u>Treinando o modelo composto de Regressão Logística: </u><br>\n",
    "Utilizamos pipeline com as seguintes etapas: normalização de dados feita pelo método StandardScaler(), PCA com as features mais relevântes e o modelo LogisticRegression()."
   ]
  },
  {
   "cell_type": "code",
   "execution_count": 15,
   "id": "a3f3f854-dc53-48e3-a686-3bf324efe14c",
   "metadata": {},
   "outputs": [
    {
     "data": {
      "text/plain": [
       "<Axes: >"
      ]
     },
     "execution_count": 15,
     "metadata": {},
     "output_type": "execute_result"
    },
    {
     "data": {
      "image/png": "[encoded data removed]",
      "text/plain": [
       "<Figure size 640x480 with 2 Axes>"
      ]
     },
     "metadata": {},
     "output_type": "display_data"
    }
   ],
   "source": [
    "modelo_lr_composto = make_pipeline(\n",
    "    StandardScaler(),    \n",
    "    LogisticRegression()\n",
    ")\n",
    "\n",
    "modelo_lr_composto.fit(X_treino, y_treino)\n",
    "\n",
    "y_verdadeiro = y_teste\n",
    "y_previsao = modelo_lr_composto.predict(X_teste)\n",
    "\n",
    "matriz_conf = confusion_matrix(y_verdadeiro, y_previsao, labels = nomes_das_features)\n",
    "\n",
    "df_conf = pd.DataFrame(matriz_conf, nomes_das_features, nomes_das_features)\n",
    "\n",
    "sns.heatmap(df_conf, annot=True, annot_kws={\"size\": 16})"
   ]
  },
  {
   "cell_type": "markdown",
   "id": "bf5c8a97",
   "metadata": {},
   "source": [
    "Computando a acurácia:"
   ]
  },
  {
   "cell_type": "code",
   "execution_count": 16,
   "id": "d3493b0f-37ec-4267-a4b6-56a5a01ccb87",
   "metadata": {},
   "outputs": [
    {
     "name": "stdout",
     "output_type": "stream",
     "text": [
      "              precision    recall  f1-score   support\n",
      "\n",
      "       False       0.67      0.70      0.68      1363\n",
      "        True       0.68      0.64      0.66      1334\n",
      "\n",
      "    accuracy                           0.67      2697\n",
      "   macro avg       0.67      0.67      0.67      2697\n",
      "weighted avg       0.67      0.67      0.67      2697\n",
      "\n"
     ]
    }
   ],
   "source": [
    "print(\n",
    "    classification_report(\n",
    "        y_verdadeiro, y_previsao\n",
    "    )\n",
    ")"
   ]
  },
  {
   "cell_type": "markdown",
   "id": "f652d57a-a0ea-4172-b336-3df3ba210297",
   "metadata": {},
   "source": [
    "<u>Treinando o modelo composto de Árvore de Decisão: </u><br>\n",
    "Utilizamos pipeline com as seguintes etapas: normalização de dados feita pelo método StandardScaler(), PCA com as features mais relevântes e o modelo DecisionTreeClassifier()."
   ]
  },
  {
   "cell_type": "code",
   "execution_count": 17,
   "id": "07535a0b-7e83-4e38-a96e-c87be049b5f2",
   "metadata": {},
   "outputs": [
    {
     "data": {
      "text/plain": [
       "<Axes: >"
      ]
     },
     "execution_count": 17,
     "metadata": {},
     "output_type": "execute_result"
    },
    {
     "data": {
      "image/png": "[encoded data removed]",
      "text/plain": [
       "<Figure size 640x480 with 2 Axes>"
      ]
     },
     "metadata": {},
     "output_type": "display_data"
    }
   ],
   "source": [
    "modelo_ad_composto = make_pipeline(\n",
    "    StandardScaler(),   \n",
    "    DecisionTreeClassifier()\n",
    ")\n",
    "\n",
    "modelo_ad_composto.fit(X_treino, y_treino)\n",
    "\n",
    "y_verdadeiro = y_teste\n",
    "y_previsao = modelo_ad_composto.predict(X_teste)\n",
    "\n",
    "matriz_conf = confusion_matrix(y_verdadeiro, y_previsao, labels = nomes_das_features)\n",
    "\n",
    "df_conf = pd.DataFrame(matriz_conf, nomes_das_features, nomes_das_features)\n",
    "\n",
    "sns.heatmap(df_conf, annot=True, annot_kws={\"size\": 16})"
   ]
  },
  {
   "cell_type": "markdown",
   "id": "2185332c",
   "metadata": {},
   "source": [
    "Computando a acurácia:"
   ]
  },
  {
   "cell_type": "code",
   "execution_count": 18,
   "id": "6c968787-725e-492f-9356-0ef2f9f7b92a",
   "metadata": {},
   "outputs": [
    {
     "name": "stdout",
     "output_type": "stream",
     "text": [
      "              precision    recall  f1-score   support\n",
      "\n",
      "       False       0.60      0.60      0.60      1363\n",
      "        True       0.59      0.60      0.59      1334\n",
      "\n",
      "    accuracy                           0.60      2697\n",
      "   macro avg       0.60      0.60      0.60      2697\n",
      "weighted avg       0.60      0.60      0.60      2697\n",
      "\n"
     ]
    }
   ],
   "source": [
    "print(\n",
    "    classification_report(\n",
    "        y_verdadeiro, y_previsao\n",
    "    )\n",
    ")"
   ]
  },
  {
   "cell_type": "markdown",
   "id": "d8e3c05d-10ed-4ee8-b169-634949bc8828",
   "metadata": {},
   "source": [
    "<u>Treinando o modelo composto de Floresta Aleatória:</u><br>\n",
    "Utilizamos pipeline com as seguintes etapas: normalização de dados feita pelo método StandardScaler(), PCA com as features mais relevântes e o modelo RandomForestClassifier()."
   ]
  },
  {
   "cell_type": "code",
   "execution_count": 19,
   "id": "449d3292-d720-4fc1-acad-4b108e986586",
   "metadata": {},
   "outputs": [
    {
     "data": {
      "text/plain": [
       "<Axes: >"
      ]
     },
     "execution_count": 19,
     "metadata": {},
     "output_type": "execute_result"
    },
    {
     "data": {
      "image/png": "[encoded data removed]",
      "text/plain": [
       "<Figure size 640x480 with 2 Axes>"
      ]
     },
     "metadata": {},
     "output_type": "display_data"
    }
   ],
   "source": [
    "modelo_rf_composto = make_pipeline(\n",
    "    StandardScaler(),\n",
    "    RandomForestClassifier()\n",
    ")\n",
    "\n",
    "modelo_rf_composto.fit(X_treino, y_treino)\n",
    "\n",
    "y_verdadeiro = y_teste\n",
    "y_previsao = modelo_rf_composto.predict(X_teste)\n",
    "\n",
    "matriz_conf = confusion_matrix(y_verdadeiro, y_previsao, labels = nomes_das_features)\n",
    "\n",
    "df_conf = pd.DataFrame(matriz_conf, nomes_das_features, nomes_das_features)\n",
    "\n",
    "sns.heatmap(df_conf, annot=True, annot_kws={\"size\": 16})"
   ]
  },
  {
   "cell_type": "markdown",
   "id": "21cef878",
   "metadata": {},
   "source": [
    "Computando a acurácia:"
   ]
  },
  {
   "cell_type": "code",
   "execution_count": 20,
   "id": "32d1f8a4-ffe2-45c6-8f5e-83a0fad58068",
   "metadata": {},
   "outputs": [
    {
     "name": "stdout",
     "output_type": "stream",
     "text": [
      "              precision    recall  f1-score   support\n",
      "\n",
      "       False       0.67      0.70      0.69      1363\n",
      "        True       0.68      0.65      0.67      1334\n",
      "\n",
      "    accuracy                           0.68      2697\n",
      "   macro avg       0.68      0.68      0.68      2697\n",
      "weighted avg       0.68      0.68      0.68      2697\n",
      "\n"
     ]
    }
   ],
   "source": [
    "print(\n",
    "    classification_report(\n",
    "        y_verdadeiro, y_previsao\n",
    "    )\n",
    ")"
   ]
  },
  {
   "cell_type": "markdown",
   "id": "3cb96211",
   "metadata": {},
   "source": [
    "Validação cruzada:"
   ]
  },
  {
   "cell_type": "code",
   "execution_count": 21,
   "id": "b4993b37-8103-4ff1-981d-cb9a36345cc4",
   "metadata": {},
   "outputs": [
    {
     "name": "stdout",
     "output_type": "stream",
     "text": [
      "As métricas foram:  [0.69373378 0.69362018 0.70215134 0.70437685 0.70103858 0.67692878\n",
      " 0.68545994 0.6810089  0.71327893 0.6828635 ]\n",
      "\n",
      "A média das métricas é de:  0.6934460781239513\n"
     ]
    }
   ],
   "source": [
    "NUM_FOLDS = 10\n",
    "\n",
    "metricas = cross_val_score(\n",
    "    modelo_rf_composto,\n",
    "    X,\n",
    "    y,\n",
    "    cv=NUM_FOLDS,\n",
    "    scoring=\"accuracy\",\n",
    ")\n",
    "\n",
    "print(\"As métricas foram: \", metricas)\n",
    "print()\n",
    "print(\"A média das métricas é de: \", metricas.mean())"
   ]
  },
  {
   "cell_type": "markdown",
   "id": "bf394a3b",
   "metadata": {},
   "source": [
    "A partir disso, vemos que a Floresta Aleatória teve a maior precisão. Por isso, escolhemos esse modelo para a otimização de hiperparâmetros. Utilizaremos o módulo optuna."
   ]
  },
  {
   "cell_type": "code",
   "execution_count": 22,
   "id": "3f4bf762",
   "metadata": {},
   "outputs": [],
   "source": [
    "import pickle\n",
    "from optuna import create_study, Trial"
   ]
  },
  {
   "cell_type": "code",
   "execution_count": 23,
   "id": "8d819bb5",
   "metadata": {},
   "outputs": [],
   "source": [
    "NUM_TENTATIVAS = 200"
   ]
  },
  {
   "cell_type": "code",
   "execution_count": 24,
   "id": "e9a1bb6d",
   "metadata": {},
   "outputs": [],
   "source": [
    "def cria_instancia_modelo(trial):\n",
    "    \"\"\"Cria uma instância do modelo.\n",
    "\n",
    "    Args:\n",
    "      trial: objeto tipo Trial do optuna.\n",
    "\n",
    "    Returns:\n",
    "      Uma instância do modelo desejado.\n",
    "    \"\"\"\n",
    "    \n",
    "    usar_pca = trial.suggest_categorical(\"usar_pca\", [True, False])\n",
    "\n",
    "    parametros = {\n",
    "        \"n_estimators\": trial.suggest_int(\"n_estimators\", 10, 100),\n",
    "\n",
    "        \"criterion\": trial.suggest_categorical(\"criterion\", {\"gini\", \"entropy\", \"log_loss\"}),\n",
    "\n",
    "        \"min_samples_split\": trial.suggest_int(\"min_samples_split\", 2, 20, log=True),\n",
    "\n",
    "        \"min_samples_leaf\": trial.suggest_int(\"min_samples_leaf\", 1, 20, log=True),\n",
    "\n",
    "        \"max_features\": trial.suggest_float(\"max_features_internal\", 0, 1),\n",
    "\n",
    "        \"n_jobs\": -1,\n",
    "\n",
    "        \"bootstrap\": True,\n",
    "\n",
    "        \"random_state\": SEMENTE_ALEATORIA,\n",
    "    }\n",
    "    \n",
    "    if usar_pca:\n",
    "        num_pca = trial.suggest_int(\"num_pca\", 4, 10)\n",
    "        model = modelo_rf_composto = make_pipeline(\n",
    "                StandardScaler(),\n",
    "                PCA(n_components = num_pca),\n",
    "                RandomForestClassifier(**parametros)\n",
    "        )\n",
    "    else:\n",
    "        model = RandomForestClassifier(**parametros)\n",
    "\n",
    "    return model"
   ]
  },
  {
   "cell_type": "markdown",
   "id": "6f3d0f9e",
   "metadata": {},
   "source": [
    "A função objetivo em problema de otimização é a função que irá computar a nossa métrica de interesse. Neste caso, a métrica de interesse é a acurácia que foi obtida por validação cruzada."
   ]
  },
  {
   "cell_type": "code",
   "execution_count": 25,
   "id": "4b4ce2c5",
   "metadata": {},
   "outputs": [],
   "source": [
    "def funcao_objetivo(\n",
    "    trial,\n",
    "    X,\n",
    "    y,\n",
    "    num_folds=NUM_FOLDS,\n",
    "):\n",
    "    \"\"\"Função objetivo do optuna\n",
    "\n",
    "    Referencia:\n",
    "      https://medium.com/@walter_sperat/ using-optuna-with-sklearn-the-right-way-part-1-6b4ad0ab2451\n",
    "    \"\"\"\n",
    "\n",
    "    modelo = cria_instancia_modelo(trial)\n",
    "\n",
    "    metricas = cross_val_score(\n",
    "        modelo,\n",
    "        X,\n",
    "        y,\n",
    "        scoring=\"accuracy\",\n",
    "        cv=NUM_FOLDS,\n",
    "    )\n",
    "\n",
    "    return metricas.mean()"
   ]
  },
  {
   "cell_type": "markdown",
   "id": "3dfd2d84",
   "metadata": {},
   "source": [
    "A otimização em si é realizada criando um objeto de estudo, nesse caso o create_study."
   ]
  },
  {
   "cell_type": "code",
   "execution_count": 26,
   "id": "741ef939",
   "metadata": {},
   "outputs": [
    {
     "name": "stderr",
     "output_type": "stream",
     "text": [
      "[I 2023-11-27 16:28:41,680] A new study created in memory with name: no-name-7e8d0bb2-8053-425f-b7dc-6b0d44d67b75\n"
     ]
    }
   ],
   "source": [
    "objeto_de_estudo = create_study(direction=\"maximize\")"
   ]
  },
  {
   "cell_type": "markdown",
   "id": "2eb01bac",
   "metadata": {},
   "source": [
    "Para rodar o otimizador precisamos de uma função objetivo que tenha apenas um argumento, o trial. Definindo a funcao_objetivo_parcial, para cumprir esse requisito:"
   ]
  },
  {
   "cell_type": "code",
   "execution_count": 27,
   "id": "5164ebe1",
   "metadata": {},
   "outputs": [],
   "source": [
    "def funcao_objetivo_parcial(trial):\n",
    "    return funcao_objetivo(trial, X_treino, y_treino)"
   ]
  },
  {
   "cell_type": "markdown",
   "id": "9e71ffda",
   "metadata": {},
   "source": [
    "Rodando o otimizador com o método optimize:"
   ]
  },
  {
   "cell_type": "code",
   "execution_count": 28,
   "id": "9d980d20",
   "metadata": {},
   "outputs": [
    {
     "name": "stderr",
     "output_type": "stream",
     "text": [
      "[I 2023-11-27 16:29:03,650] Trial 0 finished with value: 0.693206652596078 and parameters: {'usar_pca': False, 'n_estimators': 86, 'criterion': 'entropy', 'min_samples_split': 5, 'min_samples_leaf': 6, 'max_features_internal': 0.6417167332011127}. Best is trial 0 with value: 0.693206652596078.\n",
      "[I 2023-11-27 16:29:33,467] Trial 1 finished with value: 0.6519317011859578 and parameters: {'usar_pca': True, 'n_estimators': 37, 'criterion': 'log_loss', 'min_samples_split': 11, 'min_samples_leaf': 2, 'max_features_internal': 0.8268997121378244, 'num_pca': 8}. Best is trial 0 with value: 0.693206652596078.\n",
      "[I 2023-11-27 16:29:36,805] Trial 2 finished with value: 0.6430984478843509 and parameters: {'usar_pca': True, 'n_estimators': 13, 'criterion': 'entropy', 'min_samples_split': 4, 'min_samples_leaf': 11, 'max_features_internal': 0.3963736987059663, 'num_pca': 4}. Best is trial 0 with value: 0.693206652596078.\n",
      "[I 2023-11-27 16:29:41,109] Trial 3 finished with value: 0.6843738593774974 and parameters: {'usar_pca': False, 'n_estimators': 16, 'criterion': 'entropy', 'min_samples_split': 13, 'min_samples_leaf': 6, 'max_features_internal': 0.605443045659838}. Best is trial 0 with value: 0.693206652596078.\n",
      "[I 2023-11-27 16:29:45,754] Trial 4 finished with value: 0.694857038571657 and parameters: {'usar_pca': False, 'n_estimators': 84, 'criterion': 'entropy', 'min_samples_split': 15, 'min_samples_leaf': 3, 'max_features_internal': 0.02194009182406864}. Best is trial 4 with value: 0.694857038571657.\n",
      "[I 2023-11-27 16:30:21,461] Trial 5 finished with value: 0.6907710752958248 and parameters: {'usar_pca': False, 'n_estimators': 82, 'criterion': 'log_loss', 'min_samples_split': 3, 'min_samples_leaf': 1, 'max_features_internal': 0.8240344919445137}. Best is trial 4 with value: 0.694857038571657.\n",
      "[I 2023-11-27 16:30:54,916] Trial 6 finished with value: 0.6478866682593492 and parameters: {'usar_pca': True, 'n_estimators': 58, 'criterion': 'entropy', 'min_samples_split': 2, 'min_samples_leaf': 1, 'max_features_internal': 0.5729293337861171, 'num_pca': 7}. Best is trial 4 with value: 0.694857038571657.\n",
      "[I 2023-11-27 16:31:00,741] Trial 7 finished with value: 0.6597321873744357 and parameters: {'usar_pca': True, 'n_estimators': 49, 'criterion': 'gini', 'min_samples_split': 5, 'min_samples_leaf': 7, 'max_features_internal': 0.20639533723129244, 'num_pca': 6}. Best is trial 4 with value: 0.694857038571657.\n",
      "[I 2023-11-27 16:31:16,019] Trial 8 finished with value: 0.6639015790390264 and parameters: {'usar_pca': True, 'n_estimators': 87, 'criterion': 'entropy', 'min_samples_split': 12, 'min_samples_leaf': 1, 'max_features_internal': 0.05460808950869378, 'num_pca': 10}. Best is trial 4 with value: 0.694857038571657.\n",
      "[I 2023-11-27 16:31:36,354] Trial 9 finished with value: 0.6431403154397388 and parameters: {'usar_pca': True, 'n_estimators': 40, 'criterion': 'gini', 'min_samples_split': 2, 'min_samples_leaf': 1, 'max_features_internal': 0.8234434996054808, 'num_pca': 8}. Best is trial 4 with value: 0.694857038571657.\n",
      "[I 2023-11-27 16:31:39,001] Trial 10 finished with value: 0.6883357365571408 and parameters: {'usar_pca': False, 'n_estimators': 69, 'criterion': 'log_loss', 'min_samples_split': 20, 'min_samples_leaf': 20, 'max_features_internal': 0.023668570753810902}. Best is trial 4 with value: 0.694857038571657.\n",
      "[I 2023-11-27 16:31:57,721] Trial 11 finished with value: 0.6943208544048519 and parameters: {'usar_pca': False, 'n_estimators': 98, 'criterion': 'entropy', 'min_samples_split': 7, 'min_samples_leaf': 3, 'max_features_internal': 0.3663196239068667}. Best is trial 4 with value: 0.694857038571657.\n",
      "[I 2023-11-27 16:32:11,435] Trial 12 finished with value: 0.6977465985380266 and parameters: {'usar_pca': False, 'n_estimators': 99, 'criterion': 'entropy', 'min_samples_split': 8, 'min_samples_leaf': 3, 'max_features_internal': 0.28528576510696513}. Best is trial 12 with value: 0.6977465985380266.\n",
      "[I 2023-11-27 16:32:23,145] Trial 13 finished with value: 0.697127582386386 and parameters: {'usar_pca': False, 'n_estimators': 99, 'criterion': 'entropy', 'min_samples_split': 8, 'min_samples_leaf': 2, 'max_features_internal': 0.1874427242456926}. Best is trial 12 with value: 0.6977465985380266.\n",
      "[I 2023-11-27 16:32:37,289] Trial 14 finished with value: 0.6960544131675079 and parameters: {'usar_pca': False, 'n_estimators': 97, 'criterion': 'entropy', 'min_samples_split': 8, 'min_samples_leaf': 2, 'max_features_internal': 0.23743391844893263}. Best is trial 12 with value: 0.6977465985380266.\n",
      "[I 2023-11-27 16:32:43,893] Trial 15 finished with value: 0.6958478870090616 and parameters: {'usar_pca': False, 'n_estimators': 70, 'criterion': 'gini', 'min_samples_split': 8, 'min_samples_leaf': 2, 'max_features_internal': 0.19015979619381537}. Best is trial 12 with value: 0.6977465985380266.\n",
      "[I 2023-11-27 16:33:01,712] Trial 16 finished with value: 0.695435516296652 and parameters: {'usar_pca': False, 'n_estimators': 100, 'criterion': 'entropy', 'min_samples_split': 9, 'min_samples_leaf': 4, 'max_features_internal': 0.36771590336688287}. Best is trial 12 with value: 0.6977465985380266.\n",
      "[I 2023-11-27 16:33:18,069] Trial 17 finished with value: 0.6958068032988294 and parameters: {'usar_pca': False, 'n_estimators': 72, 'criterion': 'entropy', 'min_samples_split': 6, 'min_samples_leaf': 2, 'max_features_internal': 0.4540965474687429}. Best is trial 12 with value: 0.6977465985380266.\n",
      "[I 2023-11-27 16:33:26,111] Trial 18 finished with value: 0.6931238717315787 and parameters: {'usar_pca': False, 'n_estimators': 60, 'criterion': 'log_loss', 'min_samples_split': 6, 'min_samples_leaf': 4, 'max_features_internal': 0.2874940104292254}. Best is trial 12 with value: 0.6977465985380266.\n",
      "[I 2023-11-27 16:33:31,486] Trial 19 finished with value: 0.6944857515694796 and parameters: {'usar_pca': False, 'n_estimators': 77, 'criterion': 'gini', 'min_samples_split': 9, 'min_samples_leaf': 3, 'max_features_internal': 0.13654788989163674}. Best is trial 12 with value: 0.6977465985380266.\n",
      "[I 2023-11-27 16:33:47,642] Trial 20 finished with value: 0.6934539557427393 and parameters: {'usar_pca': False, 'n_estimators': 92, 'criterion': 'entropy', 'min_samples_split': 4, 'min_samples_leaf': 2, 'max_features_internal': 0.2977768333937681}. Best is trial 12 with value: 0.6977465985380266.\n",
      "[I 2023-11-27 16:33:56,206] Trial 21 finished with value: 0.697911666103775 and parameters: {'usar_pca': False, 'n_estimators': 95, 'criterion': 'entropy', 'min_samples_split': 8, 'min_samples_leaf': 2, 'max_features_internal': 0.14318611087245292}. Best is trial 21 with value: 0.697911666103775.\n",
      "[I 2023-11-27 16:34:04,322] Trial 22 finished with value: 0.6987780535625251 and parameters: {'usar_pca': False, 'n_estimators': 92, 'criterion': 'entropy', 'min_samples_split': 10, 'min_samples_leaf': 2, 'max_features_internal': 0.15269495305048783}. Best is trial 22 with value: 0.6987780535625251.\n",
      "[I 2023-11-27 16:34:09,221] Trial 23 finished with value: 0.6948162615834422 and parameters: {'usar_pca': False, 'n_estimators': 91, 'criterion': 'entropy', 'min_samples_split': 10, 'min_samples_leaf': 4, 'max_features_internal': 0.10294572598538579}. Best is trial 22 with value: 0.6987780535625251.\n",
      "[I 2023-11-27 16:34:15,664] Trial 24 finished with value: 0.6966731907575795 and parameters: {'usar_pca': False, 'n_estimators': 78, 'criterion': 'entropy', 'min_samples_split': 14, 'min_samples_leaf': 3, 'max_features_internal': 0.12596719107543422}. Best is trial 22 with value: 0.6987780535625251.\n",
      "[I 2023-11-27 16:34:29,053] Trial 25 finished with value: 0.6973340403843841 and parameters: {'usar_pca': False, 'n_estimators': 92, 'criterion': 'entropy', 'min_samples_split': 11, 'min_samples_leaf': 1, 'max_features_internal': 0.2878971250301534}. Best is trial 22 with value: 0.6987780535625251.\n",
      "[I 2023-11-27 16:34:30,829] Trial 26 finished with value: 0.6827220931528399 and parameters: {'usar_pca': False, 'n_estimators': 24, 'criterion': 'entropy', 'min_samples_split': 7, 'min_samples_leaf': 2, 'max_features_internal': 0.0946377545109448}. Best is trial 22 with value: 0.6987780535625251.\n",
      "[I 2023-11-27 16:34:36,064] Trial 27 finished with value: 0.6960541064454906 and parameters: {'usar_pca': False, 'n_estimators': 63, 'criterion': 'entropy', 'min_samples_split': 10, 'min_samples_leaf': 4, 'max_features_internal': 0.1281552085265448}. Best is trial 22 with value: 0.6987780535625251.\n"
     ]
    },
    {
     "name": "stderr",
     "output_type": "stream",
     "text": [
      "[I 2023-11-27 16:34:39,512] Trial 28 finished with value: 0.6943204624822739 and parameters: {'usar_pca': False, 'n_estimators': 77, 'criterion': 'gini', 'min_samples_split': 16, 'min_samples_leaf': 5, 'max_features_internal': 0.004563824121426252}. Best is trial 22 with value: 0.6987780535625251.\n",
      "[I 2023-11-27 16:34:56,988] Trial 29 finished with value: 0.6967971575729837 and parameters: {'usar_pca': False, 'n_estimators': 89, 'criterion': 'log_loss', 'min_samples_split': 7, 'min_samples_leaf': 8, 'max_features_internal': 0.5095816182210231}. Best is trial 22 with value: 0.6987780535625251.\n",
      "[I 2023-11-27 16:35:04,041] Trial 30 finished with value: 0.6954767533678929 and parameters: {'usar_pca': False, 'n_estimators': 52, 'criterion': 'entropy', 'min_samples_split': 12, 'min_samples_leaf': 3, 'max_features_internal': 0.2510933830484641}. Best is trial 22 with value: 0.6987780535625251.\n",
      "[I 2023-11-27 16:35:20,231] Trial 31 finished with value: 0.6960958035997578 and parameters: {'usar_pca': False, 'n_estimators': 93, 'criterion': 'entropy', 'min_samples_split': 11, 'min_samples_leaf': 1, 'max_features_internal': 0.31082708512043145}. Best is trial 22 with value: 0.6987780535625251.\n",
      "[I 2023-11-27 16:35:28,040] Trial 32 finished with value: 0.6962604792429283 and parameters: {'usar_pca': False, 'n_estimators': 83, 'criterion': 'entropy', 'min_samples_split': 10, 'min_samples_leaf': 1, 'max_features_internal': 0.16346885147011248}. Best is trial 22 with value: 0.6987780535625251.\n",
      "[I 2023-11-27 16:35:41,288] Trial 33 finished with value: 0.6968798532369226 and parameters: {'usar_pca': False, 'n_estimators': 96, 'criterion': 'entropy', 'min_samples_split': 12, 'min_samples_leaf': 2, 'max_features_internal': 0.2491466311876394}. Best is trial 22 with value: 0.6987780535625251.\n",
      "[I 2023-11-27 16:35:54,698] Trial 34 finished with value: 0.6442954135175119 and parameters: {'usar_pca': True, 'n_estimators': 88, 'criterion': 'entropy', 'min_samples_split': 9, 'min_samples_leaf': 5, 'max_features_internal': 0.0761270873697186, 'num_pca': 4}. Best is trial 22 with value: 0.6987780535625251.\n",
      "[I 2023-11-27 16:36:09,478] Trial 35 finished with value: 0.6986962099041903 and parameters: {'usar_pca': False, 'n_estimators': 94, 'criterion': 'entropy', 'min_samples_split': 14, 'min_samples_leaf': 3, 'max_features_internal': 0.3149654092448205}. Best is trial 22 with value: 0.6987780535625251.\n",
      "[I 2023-11-27 16:36:23,980] Trial 36 finished with value: 0.6982832257477456 and parameters: {'usar_pca': False, 'n_estimators': 81, 'criterion': 'entropy', 'min_samples_split': 17, 'min_samples_leaf': 3, 'max_features_internal': 0.4083782938246473}. Best is trial 22 with value: 0.6987780535625251.\n",
      "[I 2023-11-27 16:37:03,585] Trial 37 finished with value: 0.6640664591635417 and parameters: {'usar_pca': True, 'n_estimators': 83, 'criterion': 'log_loss', 'min_samples_split': 16, 'min_samples_leaf': 3, 'max_features_internal': 0.4158932513458568, 'num_pca': 10}. Best is trial 22 with value: 0.6987780535625251.\n",
      "[I 2023-11-27 16:37:14,016] Trial 38 finished with value: 0.6975403791015975 and parameters: {'usar_pca': False, 'n_estimators': 78, 'criterion': 'entropy', 'min_samples_split': 18, 'min_samples_leaf': 8, 'max_features_internal': 0.34689191749429127}. Best is trial 22 with value: 0.6987780535625251.\n",
      "[I 2023-11-27 16:37:30,484] Trial 39 finished with value: 0.6951053300448189 and parameters: {'usar_pca': False, 'n_estimators': 86, 'criterion': 'entropy', 'min_samples_split': 15, 'min_samples_leaf': 5, 'max_features_internal': 0.4344153501752434}. Best is trial 22 with value: 0.6987780535625251.\n",
      "[I 2023-11-27 16:37:40,759] Trial 40 finished with value: 0.6581227999085287 and parameters: {'usar_pca': True, 'n_estimators': 67, 'criterion': 'entropy', 'min_samples_split': 13, 'min_samples_leaf': 6, 'max_features_internal': 0.17647265766704234, 'num_pca': 6}. Best is trial 22 with value: 0.6987780535625251.\n",
      "[I 2023-11-27 16:37:54,981] Trial 41 finished with value: 0.6981183797034543 and parameters: {'usar_pca': False, 'n_estimators': 95, 'criterion': 'entropy', 'min_samples_split': 20, 'min_samples_leaf': 3, 'max_features_internal': 0.3358654303033809}. Best is trial 22 with value: 0.6987780535625251.\n",
      "[I 2023-11-27 16:38:15,123] Trial 42 finished with value: 0.6956417186929689 and parameters: {'usar_pca': False, 'n_estimators': 95, 'criterion': 'entropy', 'min_samples_split': 20, 'min_samples_leaf': 4, 'max_features_internal': 0.47967464757670764}. Best is trial 22 with value: 0.6987780535625251.\n",
      "[I 2023-11-27 16:38:30,424] Trial 43 finished with value: 0.6977878185691553 and parameters: {'usar_pca': False, 'n_estimators': 87, 'criterion': 'entropy', 'min_samples_split': 18, 'min_samples_leaf': 3, 'max_features_internal': 0.3913258062176793}. Best is trial 22 with value: 0.6987780535625251.\n",
      "[I 2023-11-27 16:38:43,862] Trial 44 finished with value: 0.6977469734204924 and parameters: {'usar_pca': False, 'n_estimators': 81, 'criterion': 'entropy', 'min_samples_split': 14, 'min_samples_leaf': 2, 'max_features_internal': 0.3475386106703049}. Best is trial 22 with value: 0.6987780535625251.\n",
      "[I 2023-11-27 16:38:47,703] Trial 45 finished with value: 0.69683868432613 and parameters: {'usar_pca': False, 'n_estimators': 43, 'criterion': 'gini', 'min_samples_split': 17, 'min_samples_leaf': 3, 'max_features_internal': 0.23395831062878672}. Best is trial 22 with value: 0.6987780535625251.\n",
      "[I 2023-11-27 16:39:25,062] Trial 46 finished with value: 0.6651818878603856 and parameters: {'usar_pca': True, 'n_estimators': 95, 'criterion': 'log_loss', 'min_samples_split': 20, 'min_samples_leaf': 13, 'max_features_internal': 0.5272082896850063, 'num_pca': 9}. Best is trial 22 with value: 0.6987780535625251.\n",
      "[I 2023-11-27 16:39:26,964] Trial 47 finished with value: 0.6868499580642842 and parameters: {'usar_pca': False, 'n_estimators': 27, 'criterion': 'entropy', 'min_samples_split': 14, 'min_samples_leaf': 2, 'max_features_internal': 0.053543807539085886}. Best is trial 22 with value: 0.6987780535625251.\n",
      "[I 2023-11-27 16:39:44,024] Trial 48 finished with value: 0.6953939043429452 and parameters: {'usar_pca': False, 'n_estimators': 100, 'criterion': 'entropy', 'min_samples_split': 16, 'min_samples_leaf': 4, 'max_features_internal': 0.4072571031116846}. Best is trial 22 with value: 0.6987780535625251.\n",
      "[I 2023-11-27 16:39:53,421] Trial 49 finished with value: 0.6973748173725987 and parameters: {'usar_pca': False, 'n_estimators': 90, 'criterion': 'entropy', 'min_samples_split': 18, 'min_samples_leaf': 3, 'max_features_internal': 0.20707291595447283}. Best is trial 22 with value: 0.6987780535625251.\n",
      "[I 2023-11-27 16:40:05,783] Trial 50 finished with value: 0.6970035985308696 and parameters: {'usar_pca': False, 'n_estimators': 74, 'criterion': 'entropy', 'min_samples_split': 13, 'min_samples_leaf': 2, 'max_features_internal': 0.35028809198607225}. Best is trial 22 with value: 0.6987780535625251.\n",
      "[I 2023-11-27 16:40:21,104] Trial 51 finished with value: 0.6977878185691553 and parameters: {'usar_pca': False, 'n_estimators': 87, 'criterion': 'entropy', 'min_samples_split': 18, 'min_samples_leaf': 3, 'max_features_internal': 0.39700180960553755}. Best is trial 22 with value: 0.6987780535625251.\n",
      "[I 2023-11-27 16:40:36,113] Trial 52 finished with value: 0.6954767022475568 and parameters: {'usar_pca': False, 'n_estimators': 86, 'criterion': 'entropy', 'min_samples_split': 20, 'min_samples_leaf': 3, 'max_features_internal': 0.3810851974667324}. Best is trial 22 with value: 0.6987780535625251.\n",
      "[I 2023-11-27 16:40:49,867] Trial 53 finished with value: 0.6968387524865782 and parameters: {'usar_pca': False, 'n_estimators': 95, 'criterion': 'entropy', 'min_samples_split': 15, 'min_samples_leaf': 5, 'max_features_internal': 0.32143240543714824}. Best is trial 22 with value: 0.6987780535625251.\n",
      "[I 2023-11-27 16:41:00,087] Trial 54 finished with value: 0.6974162759652968 and parameters: {'usar_pca': False, 'n_estimators': 81, 'criterion': 'entropy', 'min_samples_split': 18, 'min_samples_leaf': 4, 'max_features_internal': 0.2608246271301435}. Best is trial 22 with value: 0.6987780535625251.\n",
      "[I 2023-11-27 16:41:14,840] Trial 55 finished with value: 0.6963848550210223 and parameters: {'usar_pca': False, 'n_estimators': 91, 'criterion': 'gini', 'min_samples_split': 17, 'min_samples_leaf': 2, 'max_features_internal': 0.43973227607073145}. Best is trial 22 with value: 0.6987780535625251.\n"
     ]
    },
    {
     "name": "stderr",
     "output_type": "stream",
     "text": [
      "[I 2023-11-27 16:41:28,449] Trial 56 finished with value: 0.6987787522071205 and parameters: {'usar_pca': False, 'n_estimators': 85, 'criterion': 'entropy', 'min_samples_split': 13, 'min_samples_leaf': 3, 'max_features_internal': 0.32266670163102473}. Best is trial 56 with value: 0.6987787522071205.\n",
      "[I 2023-11-27 16:41:43,745] Trial 57 finished with value: 0.6514772754769271 and parameters: {'usar_pca': True, 'n_estimators': 98, 'criterion': 'entropy', 'min_samples_split': 13, 'min_samples_leaf': 4, 'max_features_internal': 0.21035850759543695, 'num_pca': 5}. Best is trial 56 with value: 0.6987787522071205.\n",
      "[I 2023-11-27 16:41:51,888] Trial 58 finished with value: 0.695723817952985 and parameters: {'usar_pca': False, 'n_estimators': 94, 'criterion': 'log_loss', 'min_samples_split': 12, 'min_samples_leaf': 2, 'max_features_internal': 0.15704482157325578}. Best is trial 56 with value: 0.6987787522071205.\n",
      "[I 2023-11-27 16:41:59,396] Trial 59 finished with value: 0.695476736327781 and parameters: {'usar_pca': False, 'n_estimators': 66, 'criterion': 'entropy', 'min_samples_split': 15, 'min_samples_leaf': 16, 'max_features_internal': 0.3221703440522656}. Best is trial 56 with value: 0.6987787522071205.\n",
      "[I 2023-11-27 16:42:06,242] Trial 60 finished with value: 0.6963432260272036 and parameters: {'usar_pca': False, 'n_estimators': 72, 'criterion': 'entropy', 'min_samples_split': 11, 'min_samples_leaf': 7, 'max_features_internal': 0.21386753456852872}. Best is trial 56 with value: 0.6987787522071205.\n",
      "[I 2023-11-27 16:42:21,317] Trial 61 finished with value: 0.695847972209622 and parameters: {'usar_pca': False, 'n_estimators': 85, 'criterion': 'entropy', 'min_samples_split': 19, 'min_samples_leaf': 3, 'max_features_internal': 0.3768011823643706}. Best is trial 56 with value: 0.6987787522071205.\n",
      "[I 2023-11-27 16:42:33,032] Trial 62 finished with value: 0.6990263279955751 and parameters: {'usar_pca': False, 'n_estimators': 89, 'criterion': 'entropy', 'min_samples_split': 16, 'min_samples_leaf': 3, 'max_features_internal': 0.27779183837444443}. Best is trial 62 with value: 0.6990263279955751.\n",
      "[I 2023-11-27 16:42:45,397] Trial 63 finished with value: 0.6964261261724876 and parameters: {'usar_pca': False, 'n_estimators': 80, 'criterion': 'entropy', 'min_samples_split': 16, 'min_samples_leaf': 3, 'max_features_internal': 0.2998399574472972}. Best is trial 62 with value: 0.6990263279955751.\n",
      "[I 2023-11-27 16:42:57,824] Trial 64 finished with value: 0.6988194269546627 and parameters: {'usar_pca': False, 'n_estimators': 90, 'criterion': 'entropy', 'min_samples_split': 14, 'min_samples_leaf': 2, 'max_features_internal': 0.24926299218621517}. Best is trial 62 with value: 0.6990263279955751.\n",
      "[I 2023-11-27 16:43:09,345] Trial 65 finished with value: 0.6960540382850422 and parameters: {'usar_pca': False, 'n_estimators': 90, 'criterion': 'entropy', 'min_samples_split': 14, 'min_samples_leaf': 4, 'max_features_internal': 0.27870321223801175}. Best is trial 62 with value: 0.6990263279955751.\n",
      "[I 2023-11-27 16:43:11,303] Trial 66 finished with value: 0.6788018790472397 and parameters: {'usar_pca': False, 'n_estimators': 10, 'criterion': 'entropy', 'min_samples_split': 14, 'min_samples_leaf': 2, 'max_features_internal': 0.2604975811424626}. Best is trial 62 with value: 0.6990263279955751.\n",
      "[I 2023-11-27 16:43:18,387] Trial 67 finished with value: 0.6953525479909197 and parameters: {'usar_pca': False, 'n_estimators': 75, 'criterion': 'gini', 'min_samples_split': 17, 'min_samples_leaf': 20, 'max_features_internal': 0.33711064958880055}. Best is trial 62 with value: 0.6990263279955751.\n",
      "[I 2023-11-27 16:43:31,132] Trial 68 finished with value: 0.6975817865739594 and parameters: {'usar_pca': False, 'n_estimators': 83, 'criterion': 'entropy', 'min_samples_split': 12, 'min_samples_leaf': 4, 'max_features_internal': 0.3095046122957135}. Best is trial 62 with value: 0.6990263279955751.\n",
      "[I 2023-11-27 16:43:43,045] Trial 69 finished with value: 0.6970862430744724 and parameters: {'usar_pca': False, 'n_estimators': 97, 'criterion': 'entropy', 'min_samples_split': 15, 'min_samples_leaf': 5, 'max_features_internal': 0.2715929317025075}. Best is trial 62 with value: 0.6990263279955751.\n",
      "[I 2023-11-27 16:43:55,929] Trial 70 finished with value: 0.6612182896294218 and parameters: {'usar_pca': True, 'n_estimators': 92, 'criterion': 'log_loss', 'min_samples_split': 19, 'min_samples_leaf': 10, 'max_features_internal': 0.22645072087736473, 'num_pca': 7}. Best is trial 62 with value: 0.6990263279955751.\n",
      "[I 2023-11-27 16:44:06,084] Trial 71 finished with value: 0.6971274460654892 and parameters: {'usar_pca': False, 'n_estimators': 89, 'criterion': 'entropy', 'min_samples_split': 13, 'min_samples_leaf': 2, 'max_features_internal': 0.19091772961960443}. Best is trial 62 with value: 0.6990263279955751.\n",
      "[I 2023-11-27 16:44:14,387] Trial 72 finished with value: 0.6957240565145543 and parameters: {'usar_pca': False, 'n_estimators': 100, 'criterion': 'entropy', 'min_samples_split': 10, 'min_samples_leaf': 3, 'max_features_internal': 0.14002960083596777}. Best is trial 62 with value: 0.6990263279955751.\n",
      "[I 2023-11-27 16:44:25,170] Trial 73 finished with value: 0.6953942281050749 and parameters: {'usar_pca': False, 'n_estimators': 93, 'criterion': 'entropy', 'min_samples_split': 11, 'min_samples_leaf': 2, 'max_features_internal': 0.1768729412954121}. Best is trial 62 with value: 0.6990263279955751.\n",
      "[I 2023-11-27 16:44:36,384] Trial 74 finished with value: 0.6983247013805558 and parameters: {'usar_pca': False, 'n_estimators': 85, 'criterion': 'entropy', 'min_samples_split': 16, 'min_samples_leaf': 3, 'max_features_internal': 0.23708041832071114}. Best is trial 62 with value: 0.6990263279955751.\n",
      "[I 2023-11-27 16:44:47,637] Trial 75 finished with value: 0.6983247013805558 and parameters: {'usar_pca': False, 'n_estimators': 85, 'criterion': 'entropy', 'min_samples_split': 16, 'min_samples_leaf': 3, 'max_features_internal': 0.23823770173314257}. Best is trial 62 with value: 0.6990263279955751.\n",
      "[I 2023-11-27 16:44:56,108] Trial 76 finished with value: 0.6949400920779497 and parameters: {'usar_pca': False, 'n_estimators': 79, 'criterion': 'entropy', 'min_samples_split': 16, 'min_samples_leaf': 3, 'max_features_internal': 0.23258184049169756}. Best is trial 62 with value: 0.6990263279955751.\n",
      "[I 2023-11-27 16:45:08,663] Trial 77 finished with value: 0.6980355477186186 and parameters: {'usar_pca': False, 'n_estimators': 83, 'criterion': 'entropy', 'min_samples_split': 15, 'min_samples_leaf': 4, 'max_features_internal': 0.2949121229648912}. Best is trial 62 with value: 0.6990263279955751.\n",
      "[I 2023-11-27 16:45:19,368] Trial 78 finished with value: 0.6966323626490285 and parameters: {'usar_pca': False, 'n_estimators': 85, 'criterion': 'entropy', 'min_samples_split': 12, 'min_samples_leaf': 5, 'max_features_internal': 0.25828001650093735}. Best is trial 62 with value: 0.6990263279955751.\n",
      "[I 2023-11-27 16:45:32,738] Trial 79 finished with value: 0.698902173738938 and parameters: {'usar_pca': False, 'n_estimators': 75, 'criterion': 'entropy', 'min_samples_split': 17, 'min_samples_leaf': 3, 'max_features_internal': 0.3612929116833566}. Best is trial 62 with value: 0.6990263279955751.\n",
      "[I 2023-11-27 16:45:39,103] Trial 80 finished with value: 0.6978704460726461 and parameters: {'usar_pca': False, 'n_estimators': 76, 'criterion': 'gini', 'min_samples_split': 14, 'min_samples_leaf': 4, 'max_features_internal': 0.18430046803154235}. Best is trial 62 with value: 0.6990263279955751.\n",
      "[I 2023-11-27 16:45:53,657] Trial 81 finished with value: 0.6982832257477456 and parameters: {'usar_pca': False, 'n_estimators': 81, 'criterion': 'entropy', 'min_samples_split': 17, 'min_samples_leaf': 3, 'max_features_internal': 0.367485290802007}. Best is trial 62 with value: 0.6990263279955751.\n",
      "[I 2023-11-27 16:46:05,053] Trial 82 finished with value: 0.6990675991470401 and parameters: {'usar_pca': False, 'n_estimators': 88, 'criterion': 'entropy', 'min_samples_split': 16, 'min_samples_leaf': 3, 'max_features_internal': 0.28433197903667945}. Best is trial 82 with value: 0.6990675991470401.\n",
      "[I 2023-11-27 16:46:15,411] Trial 83 finished with value: 0.6977876822482587 and parameters: {'usar_pca': False, 'n_estimators': 88, 'criterion': 'entropy', 'min_samples_split': 16, 'min_samples_leaf': 6, 'max_features_internal': 0.2415584042644433}. Best is trial 82 with value: 0.6990675991470401.\n"
     ]
    },
    {
     "name": "stderr",
     "output_type": "stream",
     "text": [
      "[I 2023-11-27 16:46:27,282] Trial 84 finished with value: 0.6975403620614855 and parameters: {'usar_pca': False, 'n_estimators': 89, 'criterion': 'entropy', 'min_samples_split': 14, 'min_samples_leaf': 3, 'max_features_internal': 0.2879653530877008}. Best is trial 82 with value: 0.6990675991470401.\n",
      "[I 2023-11-27 16:46:36,365] Trial 85 finished with value: 0.6948989402072691 and parameters: {'usar_pca': False, 'n_estimators': 55, 'criterion': 'entropy', 'min_samples_split': 15, 'min_samples_leaf': 2, 'max_features_internal': 0.3185950653154787}. Best is trial 82 with value: 0.6990675991470401.\n",
      "[I 2023-11-27 16:46:46,263] Trial 86 finished with value: 0.6974163270856331 and parameters: {'usar_pca': False, 'n_estimators': 92, 'criterion': 'entropy', 'min_samples_split': 13, 'min_samples_leaf': 3, 'max_features_internal': 0.20914790161185404}. Best is trial 82 with value: 0.6990675991470401.\n",
      "[I 2023-11-27 16:47:08,556] Trial 87 finished with value: 0.6613840217595415 and parameters: {'usar_pca': True, 'n_estimators': 85, 'criterion': 'entropy', 'min_samples_split': 19, 'min_samples_leaf': 4, 'max_features_internal': 0.2740494814388511, 'num_pca': 9}. Best is trial 82 with value: 0.6990675991470401.\n",
      "[I 2023-11-27 16:47:18,652] Trial 88 finished with value: 0.6970035644506456 and parameters: {'usar_pca': False, 'n_estimators': 72, 'criterion': 'entropy', 'min_samples_split': 17, 'min_samples_leaf': 1, 'max_features_internal': 0.24815770889143174}. Best is trial 82 with value: 0.6990675991470401.\n",
      "[I 2023-11-27 16:47:32,112] Trial 89 finished with value: 0.6966735826801574 and parameters: {'usar_pca': False, 'n_estimators': 87, 'criterion': 'log_loss', 'min_samples_split': 16, 'min_samples_leaf': 3, 'max_features_internal': 0.3460352673379775}. Best is trial 82 with value: 0.6990675991470401.\n",
      "[I 2023-11-27 16:47:42,964] Trial 90 finished with value: 0.6998517680649895 and parameters: {'usar_pca': False, 'n_estimators': 97, 'criterion': 'entropy', 'min_samples_split': 14, 'min_samples_leaf': 2, 'max_features_internal': 0.23035202066807475}. Best is trial 90 with value: 0.6998517680649895.\n",
      "[I 2023-11-27 16:47:51,379] Trial 91 finished with value: 0.6967972086933198 and parameters: {'usar_pca': False, 'n_estimators': 98, 'criterion': 'entropy', 'min_samples_split': 13, 'min_samples_leaf': 2, 'max_features_internal': 0.16161708951684}. Best is trial 90 with value: 0.6998517680649895.\n",
      "[I 2023-11-27 16:48:01,434] Trial 92 finished with value: 0.6980767847898598 and parameters: {'usar_pca': False, 'n_estimators': 91, 'criterion': 'entropy', 'min_samples_split': 15, 'min_samples_leaf': 2, 'max_features_internal': 0.2232072589847574}. Best is trial 90 with value: 0.6998517680649895.\n",
      "[I 2023-11-27 16:48:14,316] Trial 93 finished with value: 0.6983658532512362 and parameters: {'usar_pca': False, 'n_estimators': 97, 'criterion': 'entropy', 'min_samples_split': 14, 'min_samples_leaf': 3, 'max_features_internal': 0.2758099693344713}. Best is trial 90 with value: 0.6998517680649895.\n",
      "[I 2023-11-27 16:48:27,732] Trial 94 finished with value: 0.6989846990017562 and parameters: {'usar_pca': False, 'n_estimators': 97, 'criterion': 'entropy', 'min_samples_split': 14, 'min_samples_leaf': 2, 'max_features_internal': 0.28146174206330726}. Best is trial 90 with value: 0.6998517680649895.\n",
      "[I 2023-11-27 16:48:43,591] Trial 95 finished with value: 0.6961783629428001 and parameters: {'usar_pca': False, 'n_estimators': 97, 'criterion': 'entropy', 'min_samples_split': 14, 'min_samples_leaf': 2, 'max_features_internal': 0.305251270356705}. Best is trial 90 with value: 0.6998517680649895.\n",
      "[I 2023-11-27 16:49:01,489] Trial 96 finished with value: 0.6964670565217109 and parameters: {'usar_pca': False, 'n_estimators': 93, 'criterion': 'entropy', 'min_samples_split': 12, 'min_samples_leaf': 2, 'max_features_internal': 0.36085333725816526}. Best is trial 90 with value: 0.6998517680649895.\n",
      "[I 2023-11-27 16:49:14,708] Trial 97 finished with value: 0.698282901985616 and parameters: {'usar_pca': False, 'n_estimators': 96, 'criterion': 'entropy', 'min_samples_split': 13, 'min_samples_leaf': 2, 'max_features_internal': 0.2803202195212858}. Best is trial 90 with value: 0.6998517680649895.\n",
      "[I 2023-11-27 16:49:26,256] Trial 98 finished with value: 0.6965496669850897 and parameters: {'usar_pca': False, 'n_estimators': 99, 'criterion': 'entropy', 'min_samples_split': 11, 'min_samples_leaf': 13, 'max_features_internal': 0.3251431539048782}. Best is trial 90 with value: 0.6998517680649895.\n",
      "[I 2023-11-27 16:49:36,052] Trial 99 finished with value: 0.6965497692257621 and parameters: {'usar_pca': False, 'n_estimators': 94, 'criterion': 'entropy', 'min_samples_split': 13, 'min_samples_leaf': 4, 'max_features_internal': 0.19526862844595028}. Best is trial 90 with value: 0.6998517680649895.\n",
      "[I 2023-11-27 16:49:46,338] Trial 100 finished with value: 0.6462767866301917 and parameters: {'usar_pca': True, 'n_estimators': 90, 'criterion': 'gini', 'min_samples_split': 15, 'min_samples_leaf': 1, 'max_features_internal': 0.263521713612749, 'num_pca': 5}. Best is trial 90 with value: 0.6998517680649895.\n",
      "[I 2023-11-27 16:50:00,901] Trial 101 finished with value: 0.6970863112349207 and parameters: {'usar_pca': False, 'n_estimators': 96, 'criterion': 'entropy', 'min_samples_split': 17, 'min_samples_leaf': 3, 'max_features_internal': 0.30405264166014034}. Best is trial 90 with value: 0.6998517680649895.\n",
      "[I 2023-11-27 16:50:16,324] Trial 102 finished with value: 0.6972510720786517 and parameters: {'usar_pca': False, 'n_estimators': 100, 'criterion': 'entropy', 'min_samples_split': 15, 'min_samples_leaf': 3, 'max_features_internal': 0.3281656029531322}. Best is trial 90 with value: 0.6998517680649895.\n",
      "[I 2023-11-27 16:50:29,217] Trial 103 finished with value: 0.6995624440019317 and parameters: {'usar_pca': False, 'n_estimators': 93, 'criterion': 'entropy', 'min_samples_split': 14, 'min_samples_leaf': 2, 'max_features_internal': 0.2868453555039921}. Best is trial 90 with value: 0.6998517680649895.\n",
      "[I 2023-11-27 16:50:42,216] Trial 104 finished with value: 0.699851427262748 and parameters: {'usar_pca': False, 'n_estimators': 94, 'criterion': 'entropy', 'min_samples_split': 14, 'min_samples_leaf': 2, 'max_features_internal': 0.2892116789287158}. Best is trial 90 with value: 0.6998517680649895.\n",
      "[I 2023-11-27 16:50:59,337] Trial 105 finished with value: 0.6963845994193412 and parameters: {'usar_pca': False, 'n_estimators': 93, 'criterion': 'entropy', 'min_samples_split': 18, 'min_samples_leaf': 2, 'max_features_internal': 0.363499310725975}. Best is trial 90 with value: 0.6998517680649895.\n",
      "[I 2023-11-27 16:51:07,234] Trial 106 finished with value: 0.6964672098827196 and parameters: {'usar_pca': False, 'n_estimators': 47, 'criterion': 'entropy', 'min_samples_split': 14, 'min_samples_leaf': 2, 'max_features_internal': 0.33585193388623324}. Best is trial 90 with value: 0.6998517680649895.\n",
      "[I 2023-11-27 16:51:21,729] Trial 107 finished with value: 0.6972102269299887 and parameters: {'usar_pca': False, 'n_estimators': 88, 'criterion': 'entropy', 'min_samples_split': 12, 'min_samples_leaf': 2, 'max_features_internal': 0.299671266108133}. Best is trial 90 with value: 0.6998517680649895.\n",
      "[I 2023-11-27 16:51:25,904] Trial 108 finished with value: 0.6967558864215186 and parameters: {'usar_pca': False, 'n_estimators': 32, 'criterion': 'entropy', 'min_samples_split': 19, 'min_samples_leaf': 18, 'max_features_internal': 0.3865427398804484}. Best is trial 90 with value: 0.6998517680649895.\n",
      "[I 2023-11-27 16:51:38,729] Trial 109 finished with value: 0.6955591082295903 and parameters: {'usar_pca': False, 'n_estimators': 91, 'criterion': 'log_loss', 'min_samples_split': 11, 'min_samples_leaf': 2, 'max_features_internal': 0.254983154650122}. Best is trial 90 with value: 0.6998517680649895.\n",
      "[I 2023-11-27 16:51:49,857] Trial 110 finished with value: 0.6946510236165729 and parameters: {'usar_pca': False, 'n_estimators': 94, 'criterion': 'entropy', 'min_samples_split': 9, 'min_samples_leaf': 2, 'max_features_internal': 0.21652134078233964}. Best is trial 90 with value: 0.6998517680649895.\n",
      "[I 2023-11-27 16:52:02,732] Trial 111 finished with value: 0.6983658532512362 and parameters: {'usar_pca': False, 'n_estimators': 97, 'criterion': 'entropy', 'min_samples_split': 14, 'min_samples_leaf': 3, 'max_features_internal': 0.2832092268897225}. Best is trial 90 with value: 0.6998517680649895.\n"
     ]
    },
    {
     "name": "stderr",
     "output_type": "stream",
     "text": [
      "[I 2023-11-27 16:52:11,692] Trial 112 finished with value: 0.6980356669994033 and parameters: {'usar_pca': False, 'n_estimators': 98, 'criterion': 'entropy', 'min_samples_split': 13, 'min_samples_leaf': 17, 'max_features_internal': 0.2835416071481146}. Best is trial 90 with value: 0.6998517680649895.\n",
      "[I 2023-11-27 16:52:22,641] Trial 113 finished with value: 0.6974580242399002 and parameters: {'usar_pca': False, 'n_estimators': 95, 'criterion': 'entropy', 'min_samples_split': 14, 'min_samples_leaf': 7, 'max_features_internal': 0.2644164706474424}. Best is trial 90 with value: 0.6998517680649895.\n",
      "[I 2023-11-27 16:52:32,687] Trial 114 finished with value: 0.6984483103536061 and parameters: {'usar_pca': False, 'n_estimators': 90, 'criterion': 'entropy', 'min_samples_split': 15, 'min_samples_leaf': 2, 'max_features_internal': 0.19889835642975529}. Best is trial 90 with value: 0.6998517680649895.\n",
      "[I 2023-11-27 16:52:40,105] Trial 115 finished with value: 0.6997688338394814 and parameters: {'usar_pca': False, 'n_estimators': 89, 'criterion': 'entropy', 'min_samples_split': 17, 'min_samples_leaf': 2, 'max_features_internal': 0.1188059291603426}. Best is trial 90 with value: 0.6998517680649895.\n",
      "[I 2023-11-27 16:52:45,233] Trial 116 finished with value: 0.6931237354106821 and parameters: {'usar_pca': False, 'n_estimators': 88, 'criterion': 'entropy', 'min_samples_split': 16, 'min_samples_leaf': 2, 'max_features_internal': 0.11417510055587528}. Best is trial 90 with value: 0.6998517680649895.\n",
      "[I 2023-11-27 16:52:50,684] Trial 117 finished with value: 0.6972512936001088 and parameters: {'usar_pca': False, 'n_estimators': 92, 'criterion': 'entropy', 'min_samples_split': 17, 'min_samples_leaf': 15, 'max_features_internal': 0.15567608141727418}. Best is trial 90 with value: 0.6998517680649895.\n",
      "[I 2023-11-27 16:52:53,526] Trial 118 finished with value: 0.688831348217076 and parameters: {'usar_pca': False, 'n_estimators': 17, 'criterion': 'entropy', 'min_samples_split': 19, 'min_samples_leaf': 8, 'max_features_internal': 0.31492214158581433}. Best is trial 90 with value: 0.6998517680649895.\n",
      "[I 2023-11-27 16:52:58,532] Trial 119 finished with value: 0.6937015144910816 and parameters: {'usar_pca': False, 'n_estimators': 87, 'criterion': 'entropy', 'min_samples_split': 18, 'min_samples_leaf': 2, 'max_features_internal': 0.09225161626731432}. Best is trial 90 with value: 0.6998517680649895.\n",
      "[I 2023-11-27 16:53:08,415] Trial 120 finished with value: 0.6602277479140347 and parameters: {'usar_pca': True, 'n_estimators': 83, 'criterion': 'gini', 'min_samples_split': 12, 'min_samples_leaf': 2, 'max_features_internal': 0.17099991077967755, 'num_pca': 8}. Best is trial 90 with value: 0.6998517680649895.\n",
      "[I 2023-11-27 16:53:15,991] Trial 121 finished with value: 0.6974986478671064 and parameters: {'usar_pca': False, 'n_estimators': 89, 'criterion': 'entropy', 'min_samples_split': 15, 'min_samples_leaf': 2, 'max_features_internal': 0.13776318703382084}. Best is trial 90 with value: 0.6998517680649895.\n",
      "[I 2023-11-27 16:53:25,948] Trial 122 finished with value: 0.6978706846342152 and parameters: {'usar_pca': False, 'n_estimators': 91, 'criterion': 'entropy', 'min_samples_split': 16, 'min_samples_leaf': 2, 'max_features_internal': 0.18795627445269442}. Best is trial 90 with value: 0.6998517680649895.\n",
      "[I 2023-11-27 16:53:34,276] Trial 123 finished with value: 0.7004706819759577 and parameters: {'usar_pca': False, 'n_estimators': 94, 'criterion': 'entropy', 'min_samples_split': 17, 'min_samples_leaf': 9, 'max_features_internal': 0.2005410431496401}. Best is trial 123 with value: 0.7004706819759577.\n",
      "[I 2023-11-27 16:53:43,169] Trial 124 finished with value: 0.697251532161678 and parameters: {'usar_pca': False, 'n_estimators': 93, 'criterion': 'entropy', 'min_samples_split': 17, 'min_samples_leaf': 6, 'max_features_internal': 0.23418257162505396}. Best is trial 123 with value: 0.7004706819759577.\n",
      "[I 2023-11-27 16:53:52,397] Trial 125 finished with value: 0.697911666103775 and parameters: {'usar_pca': False, 'n_estimators': 95, 'criterion': 'entropy', 'min_samples_split': 13, 'min_samples_leaf': 6, 'max_features_internal': 0.21566794083984137}. Best is trial 123 with value: 0.7004706819759577.\n",
      "[I 2023-11-27 16:54:03,077] Trial 126 finished with value: 0.6984894281440626 and parameters: {'usar_pca': False, 'n_estimators': 99, 'criterion': 'entropy', 'min_samples_split': 18, 'min_samples_leaf': 9, 'max_features_internal': 0.2458424785639668}. Best is trial 123 with value: 0.7004706819759577.\n",
      "[I 2023-11-27 16:54:14,562] Trial 127 finished with value: 0.6971690068988599 and parameters: {'usar_pca': False, 'n_estimators': 94, 'criterion': 'entropy', 'min_samples_split': 20, 'min_samples_leaf': 11, 'max_features_internal': 0.34537211494005565}. Best is trial 123 with value: 0.7004706819759577.\n",
      "[I 2023-11-27 16:54:24,071] Trial 128 finished with value: 0.6972927521928067 and parameters: {'usar_pca': False, 'n_estimators': 62, 'criterion': 'entropy', 'min_samples_split': 5, 'min_samples_leaf': 5, 'max_features_internal': 0.3061858988897333}. Best is trial 123 with value: 0.7004706819759577.\n",
      "[I 2023-11-27 16:54:31,047] Trial 129 finished with value: 0.6973753626561854 and parameters: {'usar_pca': False, 'n_estimators': 89, 'criterion': 'entropy', 'min_samples_split': 15, 'min_samples_leaf': 4, 'max_features_internal': 0.13016726799304512}. Best is trial 123 with value: 0.7004706819759577.\n",
      "[I 2023-11-27 16:54:39,751] Trial 130 finished with value: 0.6975404302219338 and parameters: {'usar_pca': False, 'n_estimators': 86, 'criterion': 'log_loss', 'min_samples_split': 16, 'min_samples_leaf': 12, 'max_features_internal': 0.2614821266569887}. Best is trial 123 with value: 0.7004706819759577.\n",
      "[I 2023-11-27 16:54:48,441] Trial 131 finished with value: 0.7002643943790805 and parameters: {'usar_pca': False, 'n_estimators': 99, 'criterion': 'entropy', 'min_samples_split': 18, 'min_samples_leaf': 9, 'max_features_internal': 0.23303000478741592}. Best is trial 123 with value: 0.7004706819759577.\n",
      "[I 2023-11-27 16:54:56,697] Trial 132 finished with value: 0.6991499199285133 and parameters: {'usar_pca': False, 'n_estimators': 100, 'criterion': 'entropy', 'min_samples_split': 18, 'min_samples_leaf': 11, 'max_features_internal': 0.21931501005518841}. Best is trial 123 with value: 0.7004706819759577.\n",
      "[I 2023-11-27 16:55:05,410] Trial 133 finished with value: 0.7003469026017866 and parameters: {'usar_pca': False, 'n_estimators': 100, 'criterion': 'entropy', 'min_samples_split': 18, 'min_samples_leaf': 9, 'max_features_internal': 0.22140030860289509}. Best is trial 123 with value: 0.7004706819759577.\n",
      "[I 2023-11-27 16:55:13,886] Trial 134 finished with value: 0.6971276505468342 and parameters: {'usar_pca': False, 'n_estimators': 100, 'criterion': 'entropy', 'min_samples_split': 17, 'min_samples_leaf': 10, 'max_features_internal': 0.22874738903166855}. Best is trial 123 with value: 0.7004706819759577.\n",
      "[I 2023-11-27 16:55:22,447] Trial 135 finished with value: 0.6983658702913484 and parameters: {'usar_pca': False, 'n_estimators': 98, 'criterion': 'entropy', 'min_samples_split': 20, 'min_samples_leaf': 9, 'max_features_internal': 0.19232240795590816}. Best is trial 123 with value: 0.7004706819759577.\n",
      "[I 2023-11-27 16:55:30,983] Trial 136 finished with value: 0.6978289022793877 and parameters: {'usar_pca': False, 'n_estimators': 96, 'criterion': 'entropy', 'min_samples_split': 19, 'min_samples_leaf': 8, 'max_features_internal': 0.21868213531354108}. Best is trial 123 with value: 0.7004706819759577.\n",
      "[I 2023-11-27 16:55:41,196] Trial 137 finished with value: 0.6969211414284999 and parameters: {'usar_pca': False, 'n_estimators': 100, 'criterion': 'entropy', 'min_samples_split': 18, 'min_samples_leaf': 11, 'max_features_internal': 0.290060191664841}. Best is trial 123 with value: 0.7004706819759577.\n",
      "[I 2023-11-27 16:55:51,736] Trial 138 finished with value: 0.6984481229123733 and parameters: {'usar_pca': False, 'n_estimators': 97, 'criterion': 'entropy', 'min_samples_split': 17, 'min_samples_leaf': 9, 'max_features_internal': 0.24740720478588013}. Best is trial 123 with value: 0.7004706819759577.\n",
      "[I 2023-11-27 16:55:57,719] Trial 139 finished with value: 0.6963432601074276 and parameters: {'usar_pca': False, 'n_estimators': 98, 'criterion': 'entropy', 'min_samples_split': 19, 'min_samples_leaf': 13, 'max_features_internal': 0.16626757225250646}. Best is trial 123 with value: 0.7004706819759577.\n"
     ]
    },
    {
     "name": "stderr",
     "output_type": "stream",
     "text": [
      "[I 2023-11-27 16:56:05,830] Trial 140 finished with value: 0.6967148367915106 and parameters: {'usar_pca': False, 'n_estimators': 95, 'criterion': 'entropy', 'min_samples_split': 18, 'min_samples_leaf': 10, 'max_features_internal': 0.20377635141814787}. Best is trial 123 with value: 0.7004706819759577.\n",
      "[I 2023-11-27 16:56:14,877] Trial 141 finished with value: 0.6984070562422533 and parameters: {'usar_pca': False, 'n_estimators': 93, 'criterion': 'entropy', 'min_samples_split': 16, 'min_samples_leaf': 14, 'max_features_internal': 0.27015713774916894}. Best is trial 123 with value: 0.7004706819759577.\n",
      "[I 2023-11-27 16:56:20,701] Trial 142 finished with value: 0.6960129034544738 and parameters: {'usar_pca': False, 'n_estimators': 92, 'criterion': 'entropy', 'min_samples_split': 15, 'min_samples_leaf': 11, 'max_features_internal': 0.14760178451670358}. Best is trial 123 with value: 0.7004706819759577.\n",
      "[I 2023-11-27 16:56:28,488] Trial 143 finished with value: 0.6978294475629744 and parameters: {'usar_pca': False, 'n_estimators': 96, 'criterion': 'entropy', 'min_samples_split': 17, 'min_samples_leaf': 12, 'max_features_internal': 0.17971775162074244}. Best is trial 123 with value: 0.7004706819759577.\n",
      "[I 2023-11-27 16:56:39,188] Trial 144 finished with value: 0.6985719704469928 and parameters: {'usar_pca': False, 'n_estimators': 100, 'criterion': 'entropy', 'min_samples_split': 16, 'min_samples_leaf': 9, 'max_features_internal': 0.2392515693994818}. Best is trial 123 with value: 0.7004706819759577.\n",
      "[I 2023-11-27 16:56:47,316] Trial 145 finished with value: 0.6990259871933334 and parameters: {'usar_pca': False, 'n_estimators': 91, 'criterion': 'entropy', 'min_samples_split': 19, 'min_samples_leaf': 8, 'max_features_internal': 0.2113178958327513}. Best is trial 123 with value: 0.7004706819759577.\n",
      "[I 2023-11-27 16:56:55,577] Trial 146 finished with value: 0.6986960906234057 and parameters: {'usar_pca': False, 'n_estimators': 90, 'criterion': 'entropy', 'min_samples_split': 20, 'min_samples_leaf': 7, 'max_features_internal': 0.21079586085776308}. Best is trial 123 with value: 0.7004706819759577.\n",
      "[I 2023-11-27 16:57:05,919] Trial 147 finished with value: 0.69791187058512 and parameters: {'usar_pca': False, 'n_estimators': 98, 'criterion': 'entropy', 'min_samples_split': 19, 'min_samples_leaf': 10, 'max_features_internal': 0.26269485174291635}. Best is trial 123 with value: 0.7004706819759577.\n",
      "[I 2023-11-27 16:57:19,176] Trial 148 finished with value: 0.6607641024819605 and parameters: {'usar_pca': True, 'n_estimators': 94, 'criterion': 'entropy', 'min_samples_split': 18, 'min_samples_leaf': 8, 'max_features_internal': 0.2899918062733235, 'num_pca': 6}. Best is trial 123 with value: 0.7004706819759577.\n",
      "[I 2023-11-27 16:57:28,504] Trial 149 finished with value: 0.6978291408409569 and parameters: {'usar_pca': False, 'n_estimators': 91, 'criterion': 'entropy', 'min_samples_split': 18, 'min_samples_leaf': 11, 'max_features_internal': 0.24249170484083568}. Best is trial 123 with value: 0.7004706819759577.\n",
      "[I 2023-11-27 16:57:35,215] Trial 150 finished with value: 0.6965909551766668 and parameters: {'usar_pca': False, 'n_estimators': 87, 'criterion': 'gini', 'min_samples_split': 17, 'min_samples_leaf': 8, 'max_features_internal': 0.2179871177339005}. Best is trial 123 with value: 0.7004706819759577.\n",
      "[I 2023-11-27 16:57:41,607] Trial 151 finished with value: 0.6958479551695099 and parameters: {'usar_pca': False, 'n_estimators': 96, 'criterion': 'entropy', 'min_samples_split': 6, 'min_samples_leaf': 9, 'max_features_internal': 0.1703364030056899}. Best is trial 123 with value: 0.7004706819759577.\n",
      "[I 2023-11-27 16:57:45,607] Trial 152 finished with value: 0.6929172433324597 and parameters: {'usar_pca': False, 'n_estimators': 92, 'criterion': 'entropy', 'min_samples_split': 16, 'min_samples_leaf': 10, 'max_features_internal': 0.11720739896122179}. Best is trial 123 with value: 0.7004706819759577.\n",
      "[I 2023-11-27 16:57:53,541] Trial 153 finished with value: 0.6972100054085315 and parameters: {'usar_pca': False, 'n_estimators': 84, 'criterion': 'entropy', 'min_samples_split': 14, 'min_samples_leaf': 7, 'max_features_internal': 0.19576019589923488}. Best is trial 123 with value: 0.7004706819759577.\n",
      "[I 2023-11-27 16:58:04,222] Trial 154 finished with value: 0.6986961247036299 and parameters: {'usar_pca': False, 'n_estimators': 89, 'criterion': 'entropy', 'min_samples_split': 19, 'min_samples_leaf': 12, 'max_features_internal': 0.3182530757569542}. Best is trial 123 with value: 0.7004706819759577.\n",
      "[I 2023-11-27 16:58:13,663] Trial 155 finished with value: 0.6979531758168093 and parameters: {'usar_pca': False, 'n_estimators': 94, 'criterion': 'entropy', 'min_samples_split': 4, 'min_samples_leaf': 12, 'max_features_internal': 0.2781561400818982}. Best is trial 123 with value: 0.7004706819759577.\n",
      "[I 2023-11-27 16:58:23,953] Trial 156 finished with value: 0.6986548194719406 and parameters: {'usar_pca': False, 'n_estimators': 97, 'criterion': 'entropy', 'min_samples_split': 15, 'min_samples_leaf': 10, 'max_features_internal': 0.25147469652881493}. Best is trial 123 with value: 0.7004706819759577.\n",
      "[I 2023-11-27 16:58:29,970] Trial 157 finished with value: 0.6963019037554021 and parameters: {'usar_pca': False, 'n_estimators': 91, 'criterion': 'entropy', 'min_samples_split': 16, 'min_samples_leaf': 9, 'max_features_internal': 0.14988600537528496}. Best is trial 123 with value: 0.7004706819759577.\n",
      "[I 2023-11-27 16:58:38,922] Trial 158 finished with value: 0.6975399190185713 and parameters: {'usar_pca': False, 'n_estimators': 100, 'criterion': 'entropy', 'min_samples_split': 17, 'min_samples_leaf': 8, 'max_features_internal': 0.2285032641423565}. Best is trial 123 with value: 0.7004706819759577.\n",
      "[I 2023-11-27 16:58:49,063] Trial 159 finished with value: 0.697457564156874 and parameters: {'usar_pca': False, 'n_estimators': 93, 'criterion': 'entropy', 'min_samples_split': 13, 'min_samples_leaf': 17, 'max_features_internal': 0.2963478715007674}. Best is trial 123 with value: 0.7004706819759577.\n",
      "[I 2023-11-27 16:59:00,065] Trial 160 finished with value: 0.6972514469611176 and parameters: {'usar_pca': False, 'n_estimators': 88, 'criterion': 'log_loss', 'min_samples_split': 14, 'min_samples_leaf': 10, 'max_features_internal': 0.33531921371953444}. Best is trial 123 with value: 0.7004706819759577.\n",
      "[I 2023-11-27 16:59:09,764] Trial 161 finished with value: 0.6967973961345528 and parameters: {'usar_pca': False, 'n_estimators': 94, 'criterion': 'entropy', 'min_samples_split': 14, 'min_samples_leaf': 11, 'max_features_internal': 0.2933001782371767}. Best is trial 123 with value: 0.7004706819759577.\n",
      "[I 2023-11-27 16:59:18,181] Trial 162 finished with value: 0.697168632016394 and parameters: {'usar_pca': False, 'n_estimators': 96, 'criterion': 'entropy', 'min_samples_split': 15, 'min_samples_leaf': 20, 'max_features_internal': 0.2645200732735965}. Best is trial 123 with value: 0.7004706819759577.\n",
      "[I 2023-11-27 16:59:31,493] Trial 163 finished with value: 0.6985717830057598 and parameters: {'usar_pca': False, 'n_estimators': 98, 'criterion': 'entropy', 'min_samples_split': 17, 'min_samples_leaf': 7, 'max_features_internal': 0.3226336010786265}. Best is trial 123 with value: 0.7004706819759577.\n",
      "[I 2023-11-27 16:59:43,528] Trial 164 finished with value: 0.6979532950975939 and parameters: {'usar_pca': False, 'n_estimators': 90, 'criterion': 'entropy', 'min_samples_split': 16, 'min_samples_leaf': 14, 'max_features_internal': 0.35617872244690213}. Best is trial 123 with value: 0.7004706819759577.\n",
      "[I 2023-11-27 16:59:49,989] Trial 165 finished with value: 0.6980356669994032 and parameters: {'usar_pca': False, 'n_estimators': 86, 'criterion': 'entropy', 'min_samples_split': 10, 'min_samples_leaf': 18, 'max_features_internal': 0.18232526214244513}. Best is trial 123 with value: 0.7004706819759577.\n",
      "[I 2023-11-27 17:00:03,547] Trial 166 finished with value: 0.696879921397371 and parameters: {'usar_pca': False, 'n_estimators': 92, 'criterion': 'entropy', 'min_samples_split': 18, 'min_samples_leaf': 9, 'max_features_internal': 0.3767105799855297}. Best is trial 123 with value: 0.7004706819759577.\n",
      "[I 2023-11-27 17:00:12,192] Trial 167 finished with value: 0.6967148367915105 and parameters: {'usar_pca': False, 'n_estimators': 95, 'criterion': 'entropy', 'min_samples_split': 8, 'min_samples_leaf': 8, 'max_features_internal': 0.23383339731659505}. Best is trial 123 with value: 0.7004706819759577.\n"
     ]
    },
    {
     "name": "stderr",
     "output_type": "stream",
     "text": [
      "[I 2023-11-27 17:00:19,812] Trial 168 finished with value: 0.6979118365048957 and parameters: {'usar_pca': False, 'n_estimators': 99, 'criterion': 'entropy', 'min_samples_split': 12, 'min_samples_leaf': 15, 'max_features_internal': 0.20447248337457768}. Best is trial 123 with value: 0.7004706819759577.\n",
      "[I 2023-11-27 17:00:29,146] Trial 169 finished with value: 0.6524680557538836 and parameters: {'usar_pca': True, 'n_estimators': 69, 'criterion': 'entropy', 'min_samples_split': 15, 'min_samples_leaf': 14, 'max_features_internal': 0.27020733161169436, 'num_pca': 5}. Best is trial 123 with value: 0.7004706819759577.\n",
      "[I 2023-11-27 17:00:40,590] Trial 170 finished with value: 0.6983657680506761 and parameters: {'usar_pca': False, 'n_estimators': 89, 'criterion': 'entropy', 'min_samples_split': 20, 'min_samples_leaf': 9, 'max_features_internal': 0.30907735919991847}. Best is trial 123 with value: 0.7004706819759577.\n",
      "[I 2023-11-27 17:00:51,262] Trial 171 finished with value: 0.6986961247036299 and parameters: {'usar_pca': False, 'n_estimators': 89, 'criterion': 'entropy', 'min_samples_split': 19, 'min_samples_leaf': 12, 'max_features_internal': 0.32660105097243064}. Best is trial 123 with value: 0.7004706819759577.\n",
      "[I 2023-11-27 17:01:01,877] Trial 172 finished with value: 0.6975816161728386 and parameters: {'usar_pca': False, 'n_estimators': 91, 'criterion': 'entropy', 'min_samples_split': 19, 'min_samples_leaf': 13, 'max_features_internal': 0.3120411107254112}. Best is trial 123 with value: 0.7004706819759577.\n",
      "[I 2023-11-27 17:01:10,865] Trial 173 finished with value: 0.6981181752221093 and parameters: {'usar_pca': False, 'n_estimators': 87, 'criterion': 'entropy', 'min_samples_split': 18, 'min_samples_leaf': 11, 'max_features_internal': 0.2501640707794867}. Best is trial 123 with value: 0.7004706819759577.\n",
      "[I 2023-11-27 17:01:21,957] Trial 174 finished with value: 0.6977879889702763 and parameters: {'usar_pca': False, 'n_estimators': 93, 'criterion': 'entropy', 'min_samples_split': 7, 'min_samples_leaf': 12, 'max_features_internal': 0.3460583685036261}. Best is trial 123 with value: 0.7004706819759577.\n",
      "[I 2023-11-27 17:01:30,809] Trial 175 finished with value: 0.6979119557856804 and parameters: {'usar_pca': False, 'n_estimators': 84, 'criterion': 'entropy', 'min_samples_split': 20, 'min_samples_leaf': 10, 'max_features_internal': 0.2841638312788745}. Best is trial 123 with value: 0.7004706819759577.\n",
      "[I 2023-11-27 17:01:45,277] Trial 176 finished with value: 0.6977053785068976 and parameters: {'usar_pca': False, 'n_estimators': 96, 'criterion': 'entropy', 'min_samples_split': 13, 'min_samples_leaf': 13, 'max_features_internal': 0.422782569883364}. Best is trial 123 with value: 0.7004706819759577.\n",
      "[I 2023-11-27 17:01:56,773] Trial 177 finished with value: 0.6971690068988599 and parameters: {'usar_pca': False, 'n_estimators': 94, 'criterion': 'entropy', 'min_samples_split': 17, 'min_samples_leaf': 11, 'max_features_internal': 0.31049558644236225}. Best is trial 123 with value: 0.7004706819759577.\n",
      "[I 2023-11-27 17:02:04,783] Trial 178 finished with value: 0.6977055829882426 and parameters: {'usar_pca': False, 'n_estimators': 98, 'criterion': 'entropy', 'min_samples_split': 14, 'min_samples_leaf': 12, 'max_features_internal': 0.22739425901306567}. Best is trial 123 with value: 0.7004706819759577.\n",
      "[I 2023-11-27 17:02:14,864] Trial 179 finished with value: 0.6972926499521342 and parameters: {'usar_pca': False, 'n_estimators': 90, 'criterion': 'gini', 'min_samples_split': 19, 'min_samples_leaf': 16, 'max_features_internal': 0.4041166386372314}. Best is trial 123 with value: 0.7004706819759577.\n",
      "[I 2023-11-27 17:02:22,721] Trial 180 finished with value: 0.6996867686596895 and parameters: {'usar_pca': False, 'n_estimators': 88, 'criterion': 'entropy', 'min_samples_split': 16, 'min_samples_leaf': 19, 'max_features_internal': 0.2741547157662564}. Best is trial 123 with value: 0.7004706819759577.\n",
      "[I 2023-11-27 17:02:30,130] Trial 181 finished with value: 0.6988199892783614 and parameters: {'usar_pca': False, 'n_estimators': 82, 'criterion': 'entropy', 'min_samples_split': 16, 'min_samples_leaf': 19, 'max_features_internal': 0.271783101941753}. Best is trial 123 with value: 0.7004706819759577.\n",
      "[I 2023-11-27 17:02:37,855] Trial 182 finished with value: 0.6999756837600575 and parameters: {'usar_pca': False, 'n_estimators': 86, 'criterion': 'entropy', 'min_samples_split': 16, 'min_samples_leaf': 19, 'max_features_internal': 0.27184029789388786}. Best is trial 123 with value: 0.7004706819759577.\n",
      "[I 2023-11-27 17:02:45,181] Trial 183 finished with value: 0.6970449208026712 and parameters: {'usar_pca': False, 'n_estimators': 82, 'criterion': 'entropy', 'min_samples_split': 16, 'min_samples_leaf': 20, 'max_features_internal': 0.26271581028670626}. Best is trial 123 with value: 0.7004706819759577.\n",
      "[I 2023-11-27 17:02:52,350] Trial 184 finished with value: 0.6992739889845899 and parameters: {'usar_pca': False, 'n_estimators': 80, 'criterion': 'entropy', 'min_samples_split': 15, 'min_samples_leaf': 19, 'max_features_internal': 0.24722951604739726}. Best is trial 123 with value: 0.7004706819759577.\n",
      "[I 2023-11-27 17:02:59,409] Trial 185 finished with value: 0.6996453271071035 and parameters: {'usar_pca': False, 'n_estimators': 78, 'criterion': 'entropy', 'min_samples_split': 17, 'min_samples_leaf': 19, 'max_features_internal': 0.24847045640383192}. Best is trial 123 with value: 0.7004706819759577.\n",
      "[I 2023-11-27 17:03:06,905] Trial 186 finished with value: 0.6996867175393533 and parameters: {'usar_pca': False, 'n_estimators': 83, 'criterion': 'entropy', 'min_samples_split': 16, 'min_samples_leaf': 19, 'max_features_internal': 0.25433913780101236}. Best is trial 123 with value: 0.7004706819759577.\n",
      "[I 2023-11-27 17:03:12,753] Trial 187 finished with value: 0.698902361180171 and parameters: {'usar_pca': False, 'n_estimators': 78, 'criterion': 'entropy', 'min_samples_split': 17, 'min_samples_leaf': 19, 'max_features_internal': 0.22288957776005686}. Best is trial 123 with value: 0.7004706819759577.\n",
      "[I 2023-11-27 17:03:18,679] Trial 188 finished with value: 0.6972101076492041 and parameters: {'usar_pca': False, 'n_estimators': 78, 'criterion': 'entropy', 'min_samples_split': 17, 'min_samples_leaf': 18, 'max_features_internal': 0.21423459348611779}. Best is trial 123 with value: 0.7004706819759577.\n",
      "[I 2023-11-27 17:03:25,807] Trial 189 finished with value: 0.6993977342785369 and parameters: {'usar_pca': False, 'n_estimators': 79, 'criterion': 'entropy', 'min_samples_split': 17, 'min_samples_leaf': 19, 'max_features_internal': 0.24671594322104823}. Best is trial 123 with value: 0.7004706819759577.\n",
      "[I 2023-11-27 17:03:32,722] Trial 190 finished with value: 0.6971687172169544 and parameters: {'usar_pca': False, 'n_estimators': 77, 'criterion': 'entropy', 'min_samples_split': 18, 'min_samples_leaf': 20, 'max_features_internal': 0.235345307716101}. Best is trial 123 with value: 0.7004706819759577.\n",
      "[I 2023-11-27 17:03:39,904] Trial 191 finished with value: 0.6992739889845899 and parameters: {'usar_pca': False, 'n_estimators': 80, 'criterion': 'entropy', 'min_samples_split': 17, 'min_samples_leaf': 19, 'max_features_internal': 0.25043935587782296}. Best is trial 123 with value: 0.7004706819759577.\n",
      "[I 2023-11-27 17:03:45,929] Trial 192 finished with value: 0.6982419205160564 and parameters: {'usar_pca': False, 'n_estimators': 81, 'criterion': 'entropy', 'min_samples_split': 15, 'min_samples_leaf': 19, 'max_features_internal': 0.20052029627154652}. Best is trial 123 with value: 0.7004706819759577.\n",
      "[I 2023-11-27 17:03:48,763] Trial 193 finished with value: 0.6903169392686997 and parameters: {'usar_pca': False, 'n_estimators': 74, 'criterion': 'entropy', 'min_samples_split': 17, 'min_samples_leaf': 18, 'max_features_internal': 0.054124045654026065}. Best is trial 123 with value: 0.7004706819759577.\n",
      "[I 2023-11-27 17:03:56,123] Trial 194 finished with value: 0.697251310640221 and parameters: {'usar_pca': False, 'n_estimators': 80, 'criterion': 'entropy', 'min_samples_split': 16, 'min_samples_leaf': 17, 'max_features_internal': 0.24711484676390266}. Best is trial 123 with value: 0.7004706819759577.\n"
     ]
    },
    {
     "name": "stderr",
     "output_type": "stream",
     "text": [
      "[I 2023-11-27 17:04:02,219] Trial 195 finished with value: 0.6984479525112525 and parameters: {'usar_pca': False, 'n_estimators': 79, 'criterion': 'entropy', 'min_samples_split': 18, 'min_samples_leaf': 16, 'max_features_internal': 0.22704302090726422}. Best is trial 123 with value: 0.7004706819759577.\n",
      "[I 2023-11-27 17:04:08,986] Trial 196 finished with value: 0.6970861067535757 and parameters: {'usar_pca': False, 'n_estimators': 76, 'criterion': 'entropy', 'min_samples_split': 17, 'min_samples_leaf': 20, 'max_features_internal': 0.2589823110800071}. Best is trial 123 with value: 0.7004706819759577.\n",
      "[I 2023-11-27 17:04:14,922] Trial 197 finished with value: 0.6986133438391304 and parameters: {'usar_pca': False, 'n_estimators': 80, 'criterion': 'entropy', 'min_samples_split': 15, 'min_samples_leaf': 19, 'max_features_internal': 0.21253283496941755}. Best is trial 123 with value: 0.7004706819759577.\n",
      "[I 2023-11-27 17:04:22,616] Trial 198 finished with value: 0.6978291919612931 and parameters: {'usar_pca': False, 'n_estimators': 83, 'criterion': 'log_loss', 'min_samples_split': 16, 'min_samples_leaf': 17, 'max_features_internal': 0.24835343341332414}. Best is trial 123 with value: 0.7004706819759577.\n",
      "[I 2023-11-27 17:04:28,449] Trial 199 finished with value: 0.698902361180171 and parameters: {'usar_pca': False, 'n_estimators': 78, 'criterion': 'entropy', 'min_samples_split': 18, 'min_samples_leaf': 19, 'max_features_internal': 0.18766946648427682}. Best is trial 123 with value: 0.7004706819759577.\n"
     ]
    }
   ],
   "source": [
    "objeto_de_estudo.optimize(funcao_objetivo_parcial, n_trials=NUM_TENTATIVAS)"
   ]
  },
  {
   "cell_type": "markdown",
   "id": "955cb44f",
   "metadata": {},
   "source": [
    "Observando os resultados:"
   ]
  },
  {
   "cell_type": "code",
   "execution_count": 29,
   "id": "8532b7f0",
   "metadata": {},
   "outputs": [
    {
     "data": {
      "text/html": [
       "<div>\n",
       "<style scoped>\n",
       "    .dataframe tbody tr th:only-of-type {\n",
       "        vertical-align: middle;\n",
       "    }\n",
       "\n",
       "    .dataframe tbody tr th {\n",
       "        vertical-align: top;\n",
       "    }\n",
       "\n",
       "    .dataframe thead th {\n",
       "        text-align: right;\n",
       "    }\n",
       "</style>\n",
       "<table border=\"1\" class=\"dataframe\">\n",
       "  <thead>\n",
       "    <tr style=\"text-align: right;\">\n",
       "      <th></th>\n",
       "      <th>number</th>\n",
       "      <th>value</th>\n",
       "      <th>datetime_start</th>\n",
       "      <th>datetime_complete</th>\n",
       "      <th>duration</th>\n",
       "      <th>params_criterion</th>\n",
       "      <th>params_max_features_internal</th>\n",
       "      <th>params_min_samples_leaf</th>\n",
       "      <th>params_min_samples_split</th>\n",
       "      <th>params_n_estimators</th>\n",
       "      <th>params_num_pca</th>\n",
       "      <th>params_usar_pca</th>\n",
       "      <th>state</th>\n",
       "    </tr>\n",
       "  </thead>\n",
       "  <tbody>\n",
       "    <tr>\n",
       "      <th>0</th>\n",
       "      <td>0</td>\n",
       "      <td>0.693207</td>\n",
       "      <td>2023-11-27 16:28:41.687034</td>\n",
       "      <td>2023-11-27 16:29:03.650458</td>\n",
       "      <td>0 days 00:00:21.963424</td>\n",
       "      <td>entropy</td>\n",
       "      <td>0.641717</td>\n",
       "      <td>6</td>\n",
       "      <td>5</td>\n",
       "      <td>86</td>\n",
       "      <td>NaN</td>\n",
       "      <td>False</td>\n",
       "      <td>COMPLETE</td>\n",
       "    </tr>\n",
       "    <tr>\n",
       "      <th>1</th>\n",
       "      <td>1</td>\n",
       "      <td>0.651932</td>\n",
       "      <td>2023-11-27 16:29:03.651590</td>\n",
       "      <td>2023-11-27 16:29:33.466987</td>\n",
       "      <td>0 days 00:00:29.815397</td>\n",
       "      <td>log_loss</td>\n",
       "      <td>0.826900</td>\n",
       "      <td>2</td>\n",
       "      <td>11</td>\n",
       "      <td>37</td>\n",
       "      <td>8.0</td>\n",
       "      <td>True</td>\n",
       "      <td>COMPLETE</td>\n",
       "    </tr>\n",
       "    <tr>\n",
       "      <th>2</th>\n",
       "      <td>2</td>\n",
       "      <td>0.643098</td>\n",
       "      <td>2023-11-27 16:29:33.468152</td>\n",
       "      <td>2023-11-27 16:29:36.805735</td>\n",
       "      <td>0 days 00:00:03.337583</td>\n",
       "      <td>entropy</td>\n",
       "      <td>0.396374</td>\n",
       "      <td>11</td>\n",
       "      <td>4</td>\n",
       "      <td>13</td>\n",
       "      <td>4.0</td>\n",
       "      <td>True</td>\n",
       "      <td>COMPLETE</td>\n",
       "    </tr>\n",
       "    <tr>\n",
       "      <th>3</th>\n",
       "      <td>3</td>\n",
       "      <td>0.684374</td>\n",
       "      <td>2023-11-27 16:29:36.806400</td>\n",
       "      <td>2023-11-27 16:29:41.108945</td>\n",
       "      <td>0 days 00:00:04.302545</td>\n",
       "      <td>entropy</td>\n",
       "      <td>0.605443</td>\n",
       "      <td>6</td>\n",
       "      <td>13</td>\n",
       "      <td>16</td>\n",
       "      <td>NaN</td>\n",
       "      <td>False</td>\n",
       "      <td>COMPLETE</td>\n",
       "    </tr>\n",
       "    <tr>\n",
       "      <th>4</th>\n",
       "      <td>4</td>\n",
       "      <td>0.694857</td>\n",
       "      <td>2023-11-27 16:29:41.109608</td>\n",
       "      <td>2023-11-27 16:29:45.754067</td>\n",
       "      <td>0 days 00:00:04.644459</td>\n",
       "      <td>entropy</td>\n",
       "      <td>0.021940</td>\n",
       "      <td>3</td>\n",
       "      <td>15</td>\n",
       "      <td>84</td>\n",
       "      <td>NaN</td>\n",
       "      <td>False</td>\n",
       "      <td>COMPLETE</td>\n",
       "    </tr>\n",
       "    <tr>\n",
       "      <th>...</th>\n",
       "      <td>...</td>\n",
       "      <td>...</td>\n",
       "      <td>...</td>\n",
       "      <td>...</td>\n",
       "      <td>...</td>\n",
       "      <td>...</td>\n",
       "      <td>...</td>\n",
       "      <td>...</td>\n",
       "      <td>...</td>\n",
       "      <td>...</td>\n",
       "      <td>...</td>\n",
       "      <td>...</td>\n",
       "      <td>...</td>\n",
       "    </tr>\n",
       "    <tr>\n",
       "      <th>195</th>\n",
       "      <td>195</td>\n",
       "      <td>0.698448</td>\n",
       "      <td>2023-11-27 17:03:56.124480</td>\n",
       "      <td>2023-11-27 17:04:02.219616</td>\n",
       "      <td>0 days 00:00:06.095136</td>\n",
       "      <td>entropy</td>\n",
       "      <td>0.227043</td>\n",
       "      <td>16</td>\n",
       "      <td>18</td>\n",
       "      <td>79</td>\n",
       "      <td>NaN</td>\n",
       "      <td>False</td>\n",
       "      <td>COMPLETE</td>\n",
       "    </tr>\n",
       "    <tr>\n",
       "      <th>196</th>\n",
       "      <td>196</td>\n",
       "      <td>0.697086</td>\n",
       "      <td>2023-11-27 17:04:02.220308</td>\n",
       "      <td>2023-11-27 17:04:08.986745</td>\n",
       "      <td>0 days 00:00:06.766437</td>\n",
       "      <td>entropy</td>\n",
       "      <td>0.258982</td>\n",
       "      <td>20</td>\n",
       "      <td>17</td>\n",
       "      <td>76</td>\n",
       "      <td>NaN</td>\n",
       "      <td>False</td>\n",
       "      <td>COMPLETE</td>\n",
       "    </tr>\n",
       "    <tr>\n",
       "      <th>197</th>\n",
       "      <td>197</td>\n",
       "      <td>0.698613</td>\n",
       "      <td>2023-11-27 17:04:08.987401</td>\n",
       "      <td>2023-11-27 17:04:14.922243</td>\n",
       "      <td>0 days 00:00:05.934842</td>\n",
       "      <td>entropy</td>\n",
       "      <td>0.212533</td>\n",
       "      <td>19</td>\n",
       "      <td>15</td>\n",
       "      <td>80</td>\n",
       "      <td>NaN</td>\n",
       "      <td>False</td>\n",
       "      <td>COMPLETE</td>\n",
       "    </tr>\n",
       "    <tr>\n",
       "      <th>198</th>\n",
       "      <td>198</td>\n",
       "      <td>0.697829</td>\n",
       "      <td>2023-11-27 17:04:14.922935</td>\n",
       "      <td>2023-11-27 17:04:22.616604</td>\n",
       "      <td>0 days 00:00:07.693669</td>\n",
       "      <td>log_loss</td>\n",
       "      <td>0.248353</td>\n",
       "      <td>17</td>\n",
       "      <td>16</td>\n",
       "      <td>83</td>\n",
       "      <td>NaN</td>\n",
       "      <td>False</td>\n",
       "      <td>COMPLETE</td>\n",
       "    </tr>\n",
       "    <tr>\n",
       "      <th>199</th>\n",
       "      <td>199</td>\n",
       "      <td>0.698902</td>\n",
       "      <td>2023-11-27 17:04:22.617281</td>\n",
       "      <td>2023-11-27 17:04:28.449225</td>\n",
       "      <td>0 days 00:00:05.831944</td>\n",
       "      <td>entropy</td>\n",
       "      <td>0.187669</td>\n",
       "      <td>19</td>\n",
       "      <td>18</td>\n",
       "      <td>78</td>\n",
       "      <td>NaN</td>\n",
       "      <td>False</td>\n",
       "      <td>COMPLETE</td>\n",
       "    </tr>\n",
       "  </tbody>\n",
       "</table>\n",
       "<p>200 rows × 13 columns</p>\n",
       "</div>"
      ],
      "text/plain": [
       "     number     value             datetime_start          datetime_complete  \\\n",
       "0         0  0.693207 2023-11-27 16:28:41.687034 2023-11-27 16:29:03.650458   \n",
       "1         1  0.651932 2023-11-27 16:29:03.651590 2023-11-27 16:29:33.466987   \n",
       "2         2  0.643098 2023-11-27 16:29:33.468152 2023-11-27 16:29:36.805735   \n",
       "3         3  0.684374 2023-11-27 16:29:36.806400 2023-11-27 16:29:41.108945   \n",
       "4         4  0.694857 2023-11-27 16:29:41.109608 2023-11-27 16:29:45.754067   \n",
       "..      ...       ...                        ...                        ...   \n",
       "195     195  0.698448 2023-11-27 17:03:56.124480 2023-11-27 17:04:02.219616   \n",
       "196     196  0.697086 2023-11-27 17:04:02.220308 2023-11-27 17:04:08.986745   \n",
       "197     197  0.698613 2023-11-27 17:04:08.987401 2023-11-27 17:04:14.922243   \n",
       "198     198  0.697829 2023-11-27 17:04:14.922935 2023-11-27 17:04:22.616604   \n",
       "199     199  0.698902 2023-11-27 17:04:22.617281 2023-11-27 17:04:28.449225   \n",
       "\n",
       "                  duration params_criterion  params_max_features_internal  \\\n",
       "0   0 days 00:00:21.963424          entropy                      0.641717   \n",
       "1   0 days 00:00:29.815397         log_loss                      0.826900   \n",
       "2   0 days 00:00:03.337583          entropy                      0.396374   \n",
       "3   0 days 00:00:04.302545          entropy                      0.605443   \n",
       "4   0 days 00:00:04.644459          entropy                      0.021940   \n",
       "..                     ...              ...                           ...   \n",
       "195 0 days 00:00:06.095136          entropy                      0.227043   \n",
       "196 0 days 00:00:06.766437          entropy                      0.258982   \n",
       "197 0 days 00:00:05.934842          entropy                      0.212533   \n",
       "198 0 days 00:00:07.693669         log_loss                      0.248353   \n",
       "199 0 days 00:00:05.831944          entropy                      0.187669   \n",
       "\n",
       "     params_min_samples_leaf  params_min_samples_split  params_n_estimators  \\\n",
       "0                          6                         5                   86   \n",
       "1                          2                        11                   37   \n",
       "2                         11                         4                   13   \n",
       "3                          6                        13                   16   \n",
       "4                          3                        15                   84   \n",
       "..                       ...                       ...                  ...   \n",
       "195                       16                        18                   79   \n",
       "196                       20                        17                   76   \n",
       "197                       19                        15                   80   \n",
       "198                       17                        16                   83   \n",
       "199                       19                        18                   78   \n",
       "\n",
       "     params_num_pca  params_usar_pca     state  \n",
       "0               NaN            False  COMPLETE  \n",
       "1               8.0             True  COMPLETE  \n",
       "2               4.0             True  COMPLETE  \n",
       "3               NaN            False  COMPLETE  \n",
       "4               NaN            False  COMPLETE  \n",
       "..              ...              ...       ...  \n",
       "195             NaN            False  COMPLETE  \n",
       "196             NaN            False  COMPLETE  \n",
       "197             NaN            False  COMPLETE  \n",
       "198             NaN            False  COMPLETE  \n",
       "199             NaN            False  COMPLETE  \n",
       "\n",
       "[200 rows x 13 columns]"
      ]
     },
     "execution_count": 29,
     "metadata": {},
     "output_type": "execute_result"
    }
   ],
   "source": [
    "df = objeto_de_estudo.trials_dataframe()\n",
    "\n",
    "df"
   ]
  },
  {
   "cell_type": "markdown",
   "id": "a24d3b17",
   "metadata": {},
   "source": [
    "Qual foi o melhor resultado?"
   ]
  },
  {
   "cell_type": "code",
   "execution_count": 33,
   "id": "577e02b1",
   "metadata": {},
   "outputs": [
    {
     "name": "stdout",
     "output_type": "stream",
     "text": [
      "Número do melhor trial: 123\n",
      "Parâmetros do melhor trial: {'usar_pca': False, 'n_estimators': 94, 'criterion': 'entropy', 'min_samples_split': 17, 'min_samples_leaf': 9, 'max_features_internal': 0.2005410431496401}\n"
     ]
    }
   ],
   "source": [
    "melhor_trial = objeto_de_estudo.best_trial\n",
    "\n",
    "print(f\"Número do melhor trial: {melhor_trial.number}\")\n",
    "print(f\"Parâmetros do melhor trial: {melhor_trial.params}\")"
   ]
  },
  {
   "cell_type": "markdown",
   "id": "417a0f72",
   "metadata": {},
   "source": [
    "E por último, porém essencial: criamos um modelo com os melhores hiperparâmetros encontrados e checamos a sua performance. Veja:"
   ]
  },
  {
   "cell_type": "code",
   "execution_count": 36,
   "id": "1f42cb10",
   "metadata": {},
   "outputs": [
    {
     "data": {
      "text/plain": [
       "<Axes: >"
      ]
     },
     "execution_count": 36,
     "metadata": {},
     "output_type": "execute_result"
    },
    {
     "data": {
      "image/png": "[encoded data removed]",
      "text/plain": [
       "<Figure size 640x480 with 2 Axes>"
      ]
     },
     "metadata": {},
     "output_type": "display_data"
    }
   ],
   "source": [
    "modelo = cria_instancia_modelo(melhor_trial)\n",
    "modelo.fit(X_treino, y_treino)\n",
    "\n",
    "y_verdadeiro = y_teste\n",
    "y_previsao = modelo.predict(X_teste)\n",
    "\n",
    "matriz_conf = confusion_matrix(y_verdadeiro, y_previsao, labels = nomes_das_features)\n",
    "\n",
    "df_conf = pd.DataFrame(matriz_conf, nomes_das_features, nomes_das_features)\n",
    "\n",
    "sns.heatmap(df_conf, annot=True, annot_kws={\"size\": 16})\n"
   ]
  },
  {
   "cell_type": "code",
   "execution_count": 37,
   "id": "52f79ec6",
   "metadata": {},
   "outputs": [
    {
     "name": "stdout",
     "output_type": "stream",
     "text": [
      "              precision    recall  f1-score   support\n",
      "\n",
      "       False       0.69      0.70      0.69      1363\n",
      "        True       0.69      0.68      0.68      1334\n",
      "\n",
      "    accuracy                           0.69      2697\n",
      "   macro avg       0.69      0.69      0.69      2697\n",
      "weighted avg       0.69      0.69      0.69      2697\n",
      "\n"
     ]
    }
   ],
   "source": [
    "\n",
    "print(\n",
    "    classification_report(\n",
    "        y_verdadeiro, y_previsao\n",
    "    )\n",
    ")"
   ]
  },
  {
   "cell_type": "markdown",
   "id": "49f04268",
   "metadata": {},
   "source": [
    "## Referências\n",
    "\n",
    "1. CASSAR, D. R. Classificação. (2023)\n",
    "2. CASSAR, D. R. Seleção de atributos e redução de dimensionalidade. (2023)\n",
    "3. CASSAR, D. R. Otimização de hiperparâmetros com optuna --- exemplo guiado. (2023)\n",
    "4. RandomUnderSampler — Version 0.9.0. Disponível em: https://imbalanced-learn.org/stable/references/generated/imblearn.under_sampling.RandomUnderSampler.html\n",
    "5. SCIKIT-LEARN. sklearn.ensemble.RandomForestClassifier — scikit-learn 0.20.3 documentation. Disponível em: https://scikit-learn.org/stable/modules/generated/sklearn.ensemble.RandomForestClassifier.html>\n",
    "6. MELO, C. Como lidar com dados desbalanceados? Disponível em: https://sigmoidal.ai/como-lidar-com-dados-desbalanceados/. Acesso em: 15 nov. 2023.\n",
    "7. Smoking and Drinking Dataset with body signal. Disponível em: https://www.kaggle.com/datasets/sooyoungher/smoking-drinking-dataset.\n",
    "8. ChatGPT para retirada de dúvidas conceituais pontuais."
   ]
  },
  {
   "cell_type": "code",
   "execution_count": null,
   "id": "08081cda",
   "metadata": {},
   "outputs": [],
   "source": []
  },
  {
   "cell_type": "code",
   "execution_count": null,
   "id": "e4f83d6a",
   "metadata": {},
   "outputs": [],
   "source": []
  }
 ],
 "metadata": {
  "kernelspec": {
   "display_name": "Python 3 (ipykernel)",
   "language": "python",
   "name": "python3"
  },
  "language_info": {
   "codemirror_mode": {
    "name": "ipython",
    "version": 3
   },
   "file_extension": ".py",
   "mimetype": "text/x-python",
   "name": "python",
   "nbconvert_exporter": "python",
   "pygments_lexer": "ipython3",
   "version": "3.11.3"
  }
 },
 "nbformat": 4,
 "nbformat_minor": 5
}
